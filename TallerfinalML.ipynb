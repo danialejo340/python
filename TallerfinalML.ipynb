{
 "cells": [
  {
   "cell_type": "markdown",
   "id": "9a3769e9-ce59-4ac8-b343-487a29079ba9",
   "metadata": {},
   "source": [
    "Trabajo Final ML Juan Pablo Chacón, Valentina Miguez, Daniel Bolívar, Ítalo Daza"
   ]
  },
  {
   "cell_type": "code",
   "execution_count": 166,
   "id": "e0de16ca-2c66-4221-ba23-4918b5b00913",
   "metadata": {},
   "outputs": [
    {
     "name": "stdout",
     "output_type": "stream",
     "text": [
      "Requirement already satisfied: flask in c:\\users\\acer\\appdata\\local\\programs\\python\\python39\\lib\\site-packages (2.2.2)\n",
      "Requirement already satisfied: click>=8.0 in c:\\users\\acer\\appdata\\local\\programs\\python\\python39\\lib\\site-packages (from flask) (8.1.3)\n",
      "Requirement already satisfied: Jinja2>=3.0 in c:\\users\\acer\\appdata\\local\\programs\\python\\python39\\lib\\site-packages (from flask) (3.1.2)\n",
      "Requirement already satisfied: importlib-metadata>=3.6.0 in c:\\users\\acer\\appdata\\local\\programs\\python\\python39\\lib\\site-packages (from flask) (4.12.0)\n",
      "Requirement already satisfied: itsdangerous>=2.0 in c:\\users\\acer\\appdata\\local\\programs\\python\\python39\\lib\\site-packages (from flask) (2.1.2)\n",
      "Requirement already satisfied: Werkzeug>=2.2.2 in c:\\users\\acer\\appdata\\local\\programs\\python\\python39\\lib\\site-packages (from flask) (2.2.2)\n",
      "Requirement already satisfied: colorama in c:\\users\\acer\\appdata\\local\\programs\\python\\python39\\lib\\site-packages (from click>=8.0->flask) (0.4.5)\n",
      "Requirement already satisfied: zipp>=0.5 in c:\\users\\acer\\appdata\\local\\programs\\python\\python39\\lib\\site-packages (from importlib-metadata>=3.6.0->flask) (3.8.1)\n",
      "Requirement already satisfied: MarkupSafe>=2.0 in c:\\users\\acer\\appdata\\local\\programs\\python\\python39\\lib\\site-packages (from Jinja2>=3.0->flask) (2.1.1)\n"
     ]
    },
    {
     "name": "stderr",
     "output_type": "stream",
     "text": [
      "WARNING: You are using pip version 21.1.1; however, version 22.3.1 is available.\n",
      "You should consider upgrading via the 'c:\\users\\acer\\appdata\\local\\programs\\python\\python39\\python.exe -m pip install --upgrade pip' command.\n"
     ]
    },
    {
     "name": "stdout",
     "output_type": "stream",
     "text": [
      "Requirement already satisfied: nltk in c:\\users\\acer\\appdata\\local\\programs\\python\\python39\\lib\\site-packages (3.7)\n",
      "Requirement already satisfied: joblib in c:\\users\\acer\\appdata\\local\\programs\\python\\python39\\lib\\site-packages (from nltk) (1.1.0)\n",
      "Requirement already satisfied: click in c:\\users\\acer\\appdata\\local\\programs\\python\\python39\\lib\\site-packages (from nltk) (8.1.3)\n",
      "Requirement already satisfied: tqdm in c:\\users\\acer\\appdata\\local\\programs\\python\\python39\\lib\\site-packages (from nltk) (4.64.1)\n",
      "Requirement already satisfied: regex>=2021.8.3 in c:\\users\\acer\\appdata\\local\\programs\\python\\python39\\lib\\site-packages (from nltk) (2022.10.31)\n",
      "Requirement already satisfied: colorama in c:\\users\\acer\\appdata\\local\\programs\\python\\python39\\lib\\site-packages (from click->nltk) (0.4.5)\n"
     ]
    },
    {
     "name": "stderr",
     "output_type": "stream",
     "text": [
      "WARNING: You are using pip version 21.1.1; however, version 22.3.1 is available.\n",
      "You should consider upgrading via the 'c:\\users\\acer\\appdata\\local\\programs\\python\\python39\\python.exe -m pip install --upgrade pip' command.\n"
     ]
    },
    {
     "name": "stdout",
     "output_type": "stream",
     "text": [
      "Requirement already satisfied: urllib3 in c:\\users\\acer\\appdata\\local\\programs\\python\\python39\\lib\\site-packages (1.26.11)\n"
     ]
    },
    {
     "name": "stderr",
     "output_type": "stream",
     "text": [
      "WARNING: You are using pip version 21.1.1; however, version 22.3.1 is available.\n",
      "You should consider upgrading via the 'c:\\users\\acer\\appdata\\local\\programs\\python\\python39\\python.exe -m pip install --upgrade pip' command.\n"
     ]
    },
    {
     "name": "stdout",
     "output_type": "stream",
     "text": [
      "Requirement already satisfied: bs4 in c:\\users\\acer\\appdata\\local\\programs\\python\\python39\\lib\\site-packages (0.0.1)\n",
      "Requirement already satisfied: beautifulsoup4 in c:\\users\\acer\\appdata\\local\\programs\\python\\python39\\lib\\site-packages (from bs4) (4.11.1)\n",
      "Requirement already satisfied: soupsieve>1.2 in c:\\users\\acer\\appdata\\local\\programs\\python\\python39\\lib\\site-packages (from beautifulsoup4->bs4) (2.3.2.post1)\n"
     ]
    },
    {
     "name": "stderr",
     "output_type": "stream",
     "text": [
      "WARNING: You are using pip version 21.1.1; however, version 22.3.1 is available.\n",
      "You should consider upgrading via the 'c:\\users\\acer\\appdata\\local\\programs\\python\\python39\\python.exe -m pip install --upgrade pip' command.\n"
     ]
    },
    {
     "name": "stdout",
     "output_type": "stream",
     "text": [
      "Collecting textblob\n",
      "  Downloading textblob-0.17.1-py2.py3-none-any.whl (636 kB)\n",
      "Requirement already satisfied: nltk>=3.1 in c:\\users\\acer\\appdata\\local\\programs\\python\\python39\\lib\\site-packages (from textblob) (3.7)\n",
      "Requirement already satisfied: tqdm in c:\\users\\acer\\appdata\\local\\programs\\python\\python39\\lib\\site-packages (from nltk>=3.1->textblob) (4.64.1)\n",
      "Requirement already satisfied: joblib in c:\\users\\acer\\appdata\\local\\programs\\python\\python39\\lib\\site-packages (from nltk>=3.1->textblob) (1.1.0)\n",
      "Requirement already satisfied: regex>=2021.8.3 in c:\\users\\acer\\appdata\\local\\programs\\python\\python39\\lib\\site-packages (from nltk>=3.1->textblob) (2022.10.31)\n",
      "Requirement already satisfied: click in c:\\users\\acer\\appdata\\local\\programs\\python\\python39\\lib\\site-packages (from nltk>=3.1->textblob) (8.1.3)\n",
      "Requirement already satisfied: colorama in c:\\users\\acer\\appdata\\local\\programs\\python\\python39\\lib\\site-packages (from click->nltk>=3.1->textblob) (0.4.5)\n",
      "Installing collected packages: textblob\n",
      "Successfully installed textblob-0.17.1\n"
     ]
    },
    {
     "name": "stderr",
     "output_type": "stream",
     "text": [
      "WARNING: You are using pip version 21.1.1; however, version 22.3.1 is available.\n",
      "You should consider upgrading via the 'c:\\users\\acer\\appdata\\local\\programs\\python\\python39\\python.exe -m pip install --upgrade pip' command.\n"
     ]
    }
   ],
   "source": [
    "!pip install flask\n",
    "!pip install nltk\n",
    "!pip install urllib3\n",
    "!pip install bs4\n",
    "!pip install textblob"
   ]
  },
  {
   "cell_type": "code",
   "execution_count": 167,
   "id": "d3a491b4-ce4c-48ef-a955-551ce0aa27d3",
   "metadata": {},
   "outputs": [
    {
     "name": "stderr",
     "output_type": "stream",
     "text": [
      "[nltk_data] Downloading package vader_lexicon to\n",
      "[nltk_data]     C:\\Users\\Acer\\AppData\\Roaming\\nltk_data...\n",
      "[nltk_data]   Package vader_lexicon is already up-to-date!\n"
     ]
    }
   ],
   "source": [
    "# Import libraries\n",
    "from urllib.request import urlopen, Request\n",
    "from bs4 import BeautifulSoup\n",
    "import pandas as pd\n",
    "import plotly.express as px\n",
    "# NLTK VADER for sentiment analysis\n",
    "import nltk\n",
    "nltk.downloader.download('vader_lexicon')\n",
    "from nltk.sentiment.vader import SentimentIntensityAnalyzer\n",
    "from textblob import TextBlob\n",
    "# for extracting data from finviz\n",
    "finviz_url = 'https://finviz.com/quote.ashx?t='"
   ]
  },
  {
   "cell_type": "code",
   "execution_count": 168,
   "id": "46a5e8af-1e46-4beb-97c6-45e6d34aa4c5",
   "metadata": {},
   "outputs": [],
   "source": [
    "def get_news(ticker):\n",
    "    url = finviz_url + ticker\n",
    "    req = Request(url=url,headers={'User-Agent': 'Mozilla/5.0 (Windows NT 6.1; WOW64; rv:20.0) Gecko/20100101 Firefox/20.0'}) \n",
    "    response = urlopen(req)    \n",
    "    html = BeautifulSoup(response)\n",
    "    news_table = html.find(id='news-table')\n",
    "    return news_table"
   ]
  },
  {
   "cell_type": "code",
   "execution_count": 169,
   "id": "d5c0fa66-afcb-4c96-9404-7a93e44a6ff7",
   "metadata": {},
   "outputs": [],
   "source": [
    "# parse news into dataframe\n",
    "def parse_news(news_table):\n",
    "    parsed_news = []\n",
    "    \n",
    "    for x in news_table.findAll('tr'):\n",
    "        text = x.a.get_text()  \n",
    "        date_scrape = x.td.text.split()\n",
    "        if len(date_scrape) == 1:\n",
    "            time = date_scrape[0]    \n",
    "        else:\n",
    "            date = date_scrape[0]\n",
    "            time = date_scrape[1]\n",
    "        parsed_news.append([date, time, text])        \n",
    "        columns = ['date', 'time', 'headline']\n",
    "        parsed_news_df = pd.DataFrame(parsed_news, columns=columns)        \n",
    "        parsed_news_df['datetime'] = pd.to_datetime(parsed_news_df['date'] + ' ' + parsed_news_df['time'])\n",
    "        \n",
    "    return parsed_news_df"
   ]
  },
  {
   "cell_type": "code",
   "execution_count": 170,
   "id": "e3a38bd1-7aaf-4d5b-ae4a-231b24837e82",
   "metadata": {},
   "outputs": [],
   "source": [
    "def score_news(parsed_news_df):\n",
    "    # Instantiate the sentiment intensity analyzer\n",
    "    vader = SentimentIntensityAnalyzer()\n",
    "    \n",
    "    # Iterate through the headlines and get the polarity scores using vader\n",
    "    scores = parsed_news_df['headline'].apply(vader.polarity_scores).tolist()\n",
    "\n",
    "    # Convert the 'scores' list of dicts into a DataFrame\n",
    "    scores_df = pd.DataFrame(scores)\n",
    "\n",
    "    # Join the DataFrames of the news and the list of dicts\n",
    "    parsed_and_scored_news = parsed_news_df.join(scores_df, rsuffix='_right')        \n",
    "    parsed_and_scored_news = parsed_and_scored_news.set_index('datetime')    \n",
    "    parsed_and_scored_news = parsed_and_scored_news.drop(['date', 'time'], 1)          \n",
    "    parsed_and_scored_news = parsed_and_scored_news.rename(columns={\"compound\": \"sentiment_score\"})\n",
    "\n",
    "    return parsed_and_scored_news"
   ]
  },
  {
   "cell_type": "code",
   "execution_count": 171,
   "id": "0144eaf4-357a-4410-a120-75736891866a",
   "metadata": {},
   "outputs": [],
   "source": [
    "def plot_hourly_sentiment(parsed_and_scored_news, ticker):\n",
    "   \n",
    "    # Group by date and ticker columns from scored_news and calculate the mean\n",
    "    mean_scores = parsed_and_scored_news.resample('H').mean()\n",
    "\n",
    "    # Plot a bar chart with plotly \n",
    "    fig = px.bar(mean_scores, x=mean_scores.index, y='sentiment_score', title = ticker + ' Hourly Sentiment Scores')\n",
    "    fig.show()"
   ]
  },
  {
   "cell_type": "code",
   "execution_count": 172,
   "id": "66ffcef1-6b70-4ca7-a3ab-619696ccd3d8",
   "metadata": {},
   "outputs": [],
   "source": [
    "def plot_daily_sentiment(parsed_and_scored_news, ticker):\n",
    "   \n",
    "    # Group by date and ticker columns from scored_news and calculate the mean\n",
    "    mean_scores = parsed_and_scored_news.resample('D').mean()\n",
    "\n",
    "    # Plot a bar chart with plotly\n",
    "    fig = px.bar(mean_scores, x=mean_scores.index, y='sentiment_score', title = ticker + ' Daily Sentiment Scores')\n",
    "    fig.show()"
   ]
  },
  {
   "cell_type": "code",
   "execution_count": 204,
   "id": "06dfb11f-ab13-49b0-9cec-6f23635c5ac9",
   "metadata": {},
   "outputs": [
    {
     "name": "stderr",
     "output_type": "stream",
     "text": [
      "C:\\Users\\Acer\\AppData\\Local\\Temp\\ipykernel_15384\\2727784192.py:14: FutureWarning:\n",
      "\n",
      "In a future version of pandas all arguments of DataFrame.drop except for the argument 'labels' will be keyword-only.\n",
      "\n"
     ]
    },
    {
     "data": {
      "application/vnd.plotly.v1+json": {
       "config": {
        "plotlyServerURL": "https://plot.ly"
       },
       "data": [
        {
         "alignmentgroup": "True",
         "hovertemplate": "datetime=%{x}<br>sentiment_score=%{y}<extra></extra>",
         "legendgroup": "",
         "marker": {
          "color": "#636efa",
          "pattern": {
           "shape": ""
          }
         },
         "name": "",
         "offsetgroup": "",
         "orientation": "v",
         "showlegend": false,
         "textposition": "auto",
         "type": "bar",
         "x": [
          "2022-10-25T10:00:00",
          "2022-10-25T11:00:00",
          "2022-10-25T12:00:00",
          "2022-10-25T13:00:00",
          "2022-10-25T14:00:00",
          "2022-10-25T15:00:00",
          "2022-10-25T16:00:00",
          "2022-10-25T17:00:00",
          "2022-10-25T18:00:00",
          "2022-10-25T19:00:00",
          "2022-10-25T20:00:00",
          "2022-10-25T21:00:00",
          "2022-10-25T22:00:00",
          "2022-10-25T23:00:00",
          "2022-10-26T00:00:00",
          "2022-10-26T01:00:00",
          "2022-10-26T02:00:00",
          "2022-10-26T03:00:00",
          "2022-10-26T04:00:00",
          "2022-10-26T05:00:00",
          "2022-10-26T06:00:00",
          "2022-10-26T07:00:00",
          "2022-10-26T08:00:00",
          "2022-10-26T09:00:00",
          "2022-10-26T10:00:00",
          "2022-10-26T11:00:00",
          "2022-10-26T12:00:00",
          "2022-10-26T13:00:00",
          "2022-10-26T14:00:00",
          "2022-10-26T15:00:00",
          "2022-10-26T16:00:00",
          "2022-10-26T17:00:00",
          "2022-10-26T18:00:00",
          "2022-10-26T19:00:00",
          "2022-10-26T20:00:00",
          "2022-10-26T21:00:00",
          "2022-10-26T22:00:00",
          "2022-10-26T23:00:00",
          "2022-10-27T00:00:00",
          "2022-10-27T01:00:00",
          "2022-10-27T02:00:00",
          "2022-10-27T03:00:00",
          "2022-10-27T04:00:00",
          "2022-10-27T05:00:00",
          "2022-10-27T06:00:00",
          "2022-10-27T07:00:00",
          "2022-10-27T08:00:00",
          "2022-10-27T09:00:00",
          "2022-10-27T10:00:00",
          "2022-10-27T11:00:00",
          "2022-10-27T12:00:00",
          "2022-10-27T13:00:00",
          "2022-10-27T14:00:00",
          "2022-10-27T15:00:00",
          "2022-10-27T16:00:00",
          "2022-10-27T17:00:00",
          "2022-10-27T18:00:00",
          "2022-10-27T19:00:00",
          "2022-10-27T20:00:00",
          "2022-10-27T21:00:00",
          "2022-10-27T22:00:00",
          "2022-10-27T23:00:00",
          "2022-10-28T00:00:00",
          "2022-10-28T01:00:00",
          "2022-10-28T02:00:00",
          "2022-10-28T03:00:00",
          "2022-10-28T04:00:00",
          "2022-10-28T05:00:00",
          "2022-10-28T06:00:00",
          "2022-10-28T07:00:00",
          "2022-10-28T08:00:00",
          "2022-10-28T09:00:00",
          "2022-10-28T10:00:00",
          "2022-10-28T11:00:00",
          "2022-10-28T12:00:00",
          "2022-10-28T13:00:00",
          "2022-10-28T14:00:00",
          "2022-10-28T15:00:00",
          "2022-10-28T16:00:00",
          "2022-10-28T17:00:00",
          "2022-10-28T18:00:00",
          "2022-10-28T19:00:00",
          "2022-10-28T20:00:00",
          "2022-10-28T21:00:00",
          "2022-10-28T22:00:00",
          "2022-10-28T23:00:00",
          "2022-10-29T00:00:00",
          "2022-10-29T01:00:00",
          "2022-10-29T02:00:00",
          "2022-10-29T03:00:00",
          "2022-10-29T04:00:00",
          "2022-10-29T05:00:00",
          "2022-10-29T06:00:00",
          "2022-10-29T07:00:00",
          "2022-10-29T08:00:00",
          "2022-10-29T09:00:00",
          "2022-10-29T10:00:00",
          "2022-10-29T11:00:00",
          "2022-10-29T12:00:00",
          "2022-10-29T13:00:00",
          "2022-10-29T14:00:00",
          "2022-10-29T15:00:00",
          "2022-10-29T16:00:00",
          "2022-10-29T17:00:00",
          "2022-10-29T18:00:00",
          "2022-10-29T19:00:00",
          "2022-10-29T20:00:00",
          "2022-10-29T21:00:00",
          "2022-10-29T22:00:00",
          "2022-10-29T23:00:00",
          "2022-10-30T00:00:00",
          "2022-10-30T01:00:00",
          "2022-10-30T02:00:00",
          "2022-10-30T03:00:00",
          "2022-10-30T04:00:00",
          "2022-10-30T05:00:00",
          "2022-10-30T06:00:00",
          "2022-10-30T07:00:00",
          "2022-10-30T08:00:00",
          "2022-10-30T09:00:00",
          "2022-10-30T10:00:00",
          "2022-10-30T11:00:00",
          "2022-10-30T12:00:00",
          "2022-10-30T13:00:00",
          "2022-10-30T14:00:00",
          "2022-10-30T15:00:00",
          "2022-10-30T16:00:00",
          "2022-10-30T17:00:00",
          "2022-10-30T18:00:00",
          "2022-10-30T19:00:00",
          "2022-10-30T20:00:00",
          "2022-10-30T21:00:00",
          "2022-10-30T22:00:00",
          "2022-10-30T23:00:00",
          "2022-10-31T00:00:00",
          "2022-10-31T01:00:00",
          "2022-10-31T02:00:00",
          "2022-10-31T03:00:00",
          "2022-10-31T04:00:00",
          "2022-10-31T05:00:00",
          "2022-10-31T06:00:00",
          "2022-10-31T07:00:00",
          "2022-10-31T08:00:00",
          "2022-10-31T09:00:00",
          "2022-10-31T10:00:00",
          "2022-10-31T11:00:00",
          "2022-10-31T12:00:00",
          "2022-10-31T13:00:00",
          "2022-10-31T14:00:00",
          "2022-10-31T15:00:00",
          "2022-10-31T16:00:00",
          "2022-10-31T17:00:00",
          "2022-10-31T18:00:00",
          "2022-10-31T19:00:00",
          "2022-10-31T20:00:00",
          "2022-10-31T21:00:00",
          "2022-10-31T22:00:00",
          "2022-10-31T23:00:00",
          "2022-11-01T00:00:00",
          "2022-11-01T01:00:00",
          "2022-11-01T02:00:00",
          "2022-11-01T03:00:00",
          "2022-11-01T04:00:00",
          "2022-11-01T05:00:00",
          "2022-11-01T06:00:00",
          "2022-11-01T07:00:00",
          "2022-11-01T08:00:00",
          "2022-11-01T09:00:00",
          "2022-11-01T10:00:00",
          "2022-11-01T11:00:00",
          "2022-11-01T12:00:00",
          "2022-11-01T13:00:00",
          "2022-11-01T14:00:00",
          "2022-11-01T15:00:00",
          "2022-11-01T16:00:00",
          "2022-11-01T17:00:00",
          "2022-11-01T18:00:00",
          "2022-11-01T19:00:00",
          "2022-11-01T20:00:00",
          "2022-11-01T21:00:00",
          "2022-11-01T22:00:00",
          "2022-11-01T23:00:00",
          "2022-11-02T00:00:00",
          "2022-11-02T01:00:00",
          "2022-11-02T02:00:00",
          "2022-11-02T03:00:00",
          "2022-11-02T04:00:00",
          "2022-11-02T05:00:00",
          "2022-11-02T06:00:00",
          "2022-11-02T07:00:00",
          "2022-11-02T08:00:00",
          "2022-11-02T09:00:00",
          "2022-11-02T10:00:00",
          "2022-11-02T11:00:00",
          "2022-11-02T12:00:00",
          "2022-11-02T13:00:00",
          "2022-11-02T14:00:00",
          "2022-11-02T15:00:00",
          "2022-11-02T16:00:00",
          "2022-11-02T17:00:00",
          "2022-11-02T18:00:00",
          "2022-11-02T19:00:00",
          "2022-11-02T20:00:00",
          "2022-11-02T21:00:00",
          "2022-11-02T22:00:00",
          "2022-11-02T23:00:00",
          "2022-11-03T00:00:00",
          "2022-11-03T01:00:00",
          "2022-11-03T02:00:00",
          "2022-11-03T03:00:00",
          "2022-11-03T04:00:00",
          "2022-11-03T05:00:00",
          "2022-11-03T06:00:00",
          "2022-11-03T07:00:00",
          "2022-11-03T08:00:00",
          "2022-11-03T09:00:00",
          "2022-11-03T10:00:00",
          "2022-11-03T11:00:00",
          "2022-11-03T12:00:00",
          "2022-11-03T13:00:00",
          "2022-11-03T14:00:00",
          "2022-11-03T15:00:00",
          "2022-11-03T16:00:00",
          "2022-11-03T17:00:00",
          "2022-11-03T18:00:00",
          "2022-11-03T19:00:00",
          "2022-11-03T20:00:00",
          "2022-11-03T21:00:00",
          "2022-11-03T22:00:00",
          "2022-11-03T23:00:00",
          "2022-11-04T00:00:00",
          "2022-11-04T01:00:00",
          "2022-11-04T02:00:00",
          "2022-11-04T03:00:00",
          "2022-11-04T04:00:00",
          "2022-11-04T05:00:00",
          "2022-11-04T06:00:00",
          "2022-11-04T07:00:00",
          "2022-11-04T08:00:00",
          "2022-11-04T09:00:00",
          "2022-11-04T10:00:00",
          "2022-11-04T11:00:00",
          "2022-11-04T12:00:00",
          "2022-11-04T13:00:00",
          "2022-11-04T14:00:00",
          "2022-11-04T15:00:00",
          "2022-11-04T16:00:00",
          "2022-11-04T17:00:00",
          "2022-11-04T18:00:00",
          "2022-11-04T19:00:00",
          "2022-11-04T20:00:00",
          "2022-11-04T21:00:00",
          "2022-11-04T22:00:00",
          "2022-11-04T23:00:00",
          "2022-11-05T00:00:00",
          "2022-11-05T01:00:00",
          "2022-11-05T02:00:00",
          "2022-11-05T03:00:00",
          "2022-11-05T04:00:00",
          "2022-11-05T05:00:00",
          "2022-11-05T06:00:00",
          "2022-11-05T07:00:00",
          "2022-11-05T08:00:00",
          "2022-11-05T09:00:00",
          "2022-11-05T10:00:00",
          "2022-11-05T11:00:00",
          "2022-11-05T12:00:00",
          "2022-11-05T13:00:00",
          "2022-11-05T14:00:00",
          "2022-11-05T15:00:00",
          "2022-11-05T16:00:00",
          "2022-11-05T17:00:00",
          "2022-11-05T18:00:00",
          "2022-11-05T19:00:00",
          "2022-11-05T20:00:00",
          "2022-11-05T21:00:00",
          "2022-11-05T22:00:00",
          "2022-11-05T23:00:00",
          "2022-11-06T00:00:00",
          "2022-11-06T01:00:00",
          "2022-11-06T02:00:00",
          "2022-11-06T03:00:00",
          "2022-11-06T04:00:00",
          "2022-11-06T05:00:00",
          "2022-11-06T06:00:00",
          "2022-11-06T07:00:00",
          "2022-11-06T08:00:00",
          "2022-11-06T09:00:00",
          "2022-11-06T10:00:00",
          "2022-11-06T11:00:00",
          "2022-11-06T12:00:00",
          "2022-11-06T13:00:00",
          "2022-11-06T14:00:00",
          "2022-11-06T15:00:00",
          "2022-11-06T16:00:00",
          "2022-11-06T17:00:00",
          "2022-11-06T18:00:00",
          "2022-11-06T19:00:00",
          "2022-11-06T20:00:00",
          "2022-11-06T21:00:00",
          "2022-11-06T22:00:00",
          "2022-11-06T23:00:00",
          "2022-11-07T00:00:00",
          "2022-11-07T01:00:00",
          "2022-11-07T02:00:00",
          "2022-11-07T03:00:00",
          "2022-11-07T04:00:00",
          "2022-11-07T05:00:00",
          "2022-11-07T06:00:00",
          "2022-11-07T07:00:00",
          "2022-11-07T08:00:00",
          "2022-11-07T09:00:00",
          "2022-11-07T10:00:00",
          "2022-11-07T11:00:00",
          "2022-11-07T12:00:00",
          "2022-11-07T13:00:00",
          "2022-11-07T14:00:00",
          "2022-11-07T15:00:00",
          "2022-11-07T16:00:00",
          "2022-11-07T17:00:00",
          "2022-11-07T18:00:00",
          "2022-11-07T19:00:00",
          "2022-11-07T20:00:00",
          "2022-11-07T21:00:00",
          "2022-11-07T22:00:00",
          "2022-11-07T23:00:00",
          "2022-11-08T00:00:00",
          "2022-11-08T01:00:00",
          "2022-11-08T02:00:00",
          "2022-11-08T03:00:00",
          "2022-11-08T04:00:00",
          "2022-11-08T05:00:00",
          "2022-11-08T06:00:00",
          "2022-11-08T07:00:00",
          "2022-11-08T08:00:00",
          "2022-11-08T09:00:00",
          "2022-11-08T10:00:00",
          "2022-11-08T11:00:00",
          "2022-11-08T12:00:00",
          "2022-11-08T13:00:00",
          "2022-11-08T14:00:00",
          "2022-11-08T15:00:00",
          "2022-11-08T16:00:00",
          "2022-11-08T17:00:00",
          "2022-11-08T18:00:00",
          "2022-11-08T19:00:00",
          "2022-11-08T20:00:00",
          "2022-11-08T21:00:00",
          "2022-11-08T22:00:00",
          "2022-11-08T23:00:00",
          "2022-11-09T00:00:00",
          "2022-11-09T01:00:00",
          "2022-11-09T02:00:00",
          "2022-11-09T03:00:00",
          "2022-11-09T04:00:00",
          "2022-11-09T05:00:00",
          "2022-11-09T06:00:00",
          "2022-11-09T07:00:00",
          "2022-11-09T08:00:00",
          "2022-11-09T09:00:00",
          "2022-11-09T10:00:00",
          "2022-11-09T11:00:00",
          "2022-11-09T12:00:00",
          "2022-11-09T13:00:00",
          "2022-11-09T14:00:00",
          "2022-11-09T15:00:00",
          "2022-11-09T16:00:00",
          "2022-11-09T17:00:00",
          "2022-11-09T18:00:00",
          "2022-11-09T19:00:00",
          "2022-11-09T20:00:00",
          "2022-11-09T21:00:00",
          "2022-11-09T22:00:00",
          "2022-11-09T23:00:00",
          "2022-11-10T00:00:00",
          "2022-11-10T01:00:00",
          "2022-11-10T02:00:00",
          "2022-11-10T03:00:00",
          "2022-11-10T04:00:00",
          "2022-11-10T05:00:00",
          "2022-11-10T06:00:00",
          "2022-11-10T07:00:00",
          "2022-11-10T08:00:00",
          "2022-11-10T09:00:00",
          "2022-11-10T10:00:00",
          "2022-11-10T11:00:00",
          "2022-11-10T12:00:00",
          "2022-11-10T13:00:00",
          "2022-11-10T14:00:00",
          "2022-11-10T15:00:00",
          "2022-11-10T16:00:00",
          "2022-11-10T17:00:00",
          "2022-11-10T18:00:00",
          "2022-11-10T19:00:00",
          "2022-11-10T20:00:00",
          "2022-11-10T21:00:00",
          "2022-11-10T22:00:00",
          "2022-11-10T23:00:00",
          "2022-11-11T00:00:00",
          "2022-11-11T01:00:00",
          "2022-11-11T02:00:00",
          "2022-11-11T03:00:00",
          "2022-11-11T04:00:00",
          "2022-11-11T05:00:00",
          "2022-11-11T06:00:00",
          "2022-11-11T07:00:00",
          "2022-11-11T08:00:00",
          "2022-11-11T09:00:00",
          "2022-11-11T10:00:00",
          "2022-11-11T11:00:00",
          "2022-11-11T12:00:00",
          "2022-11-11T13:00:00",
          "2022-11-11T14:00:00",
          "2022-11-11T15:00:00",
          "2022-11-11T16:00:00",
          "2022-11-11T17:00:00",
          "2022-11-11T18:00:00",
          "2022-11-11T19:00:00",
          "2022-11-11T20:00:00",
          "2022-11-11T21:00:00",
          "2022-11-11T22:00:00",
          "2022-11-11T23:00:00",
          "2022-11-12T00:00:00",
          "2022-11-12T01:00:00",
          "2022-11-12T02:00:00",
          "2022-11-12T03:00:00",
          "2022-11-12T04:00:00",
          "2022-11-12T05:00:00",
          "2022-11-12T06:00:00",
          "2022-11-12T07:00:00",
          "2022-11-12T08:00:00",
          "2022-11-12T09:00:00",
          "2022-11-12T10:00:00",
          "2022-11-12T11:00:00",
          "2022-11-12T12:00:00",
          "2022-11-12T13:00:00",
          "2022-11-12T14:00:00",
          "2022-11-12T15:00:00",
          "2022-11-12T16:00:00",
          "2022-11-12T17:00:00",
          "2022-11-12T18:00:00",
          "2022-11-12T19:00:00",
          "2022-11-12T20:00:00",
          "2022-11-12T21:00:00",
          "2022-11-12T22:00:00",
          "2022-11-12T23:00:00",
          "2022-11-13T00:00:00",
          "2022-11-13T01:00:00",
          "2022-11-13T02:00:00",
          "2022-11-13T03:00:00",
          "2022-11-13T04:00:00",
          "2022-11-13T05:00:00",
          "2022-11-13T06:00:00",
          "2022-11-13T07:00:00",
          "2022-11-13T08:00:00",
          "2022-11-13T09:00:00",
          "2022-11-13T10:00:00",
          "2022-11-13T11:00:00",
          "2022-11-13T12:00:00",
          "2022-11-13T13:00:00",
          "2022-11-13T14:00:00",
          "2022-11-13T15:00:00",
          "2022-11-13T16:00:00",
          "2022-11-13T17:00:00",
          "2022-11-13T18:00:00",
          "2022-11-13T19:00:00",
          "2022-11-13T20:00:00",
          "2022-11-13T21:00:00",
          "2022-11-13T22:00:00",
          "2022-11-13T23:00:00",
          "2022-11-14T00:00:00",
          "2022-11-14T01:00:00",
          "2022-11-14T02:00:00",
          "2022-11-14T03:00:00",
          "2022-11-14T04:00:00",
          "2022-11-14T05:00:00",
          "2022-11-14T06:00:00",
          "2022-11-14T07:00:00",
          "2022-11-14T08:00:00",
          "2022-11-14T09:00:00",
          "2022-11-14T10:00:00",
          "2022-11-14T11:00:00",
          "2022-11-14T12:00:00",
          "2022-11-14T13:00:00",
          "2022-11-14T14:00:00",
          "2022-11-14T15:00:00",
          "2022-11-14T16:00:00",
          "2022-11-14T17:00:00",
          "2022-11-14T18:00:00",
          "2022-11-14T19:00:00",
          "2022-11-14T20:00:00",
          "2022-11-14T21:00:00",
          "2022-11-14T22:00:00",
          "2022-11-14T23:00:00",
          "2022-11-15T00:00:00",
          "2022-11-15T01:00:00",
          "2022-11-15T02:00:00",
          "2022-11-15T03:00:00",
          "2022-11-15T04:00:00",
          "2022-11-15T05:00:00",
          "2022-11-15T06:00:00",
          "2022-11-15T07:00:00",
          "2022-11-15T08:00:00",
          "2022-11-15T09:00:00",
          "2022-11-15T10:00:00",
          "2022-11-15T11:00:00",
          "2022-11-15T12:00:00",
          "2022-11-15T13:00:00",
          "2022-11-15T14:00:00",
          "2022-11-15T15:00:00",
          "2022-11-15T16:00:00",
          "2022-11-15T17:00:00",
          "2022-11-15T18:00:00",
          "2022-11-15T19:00:00",
          "2022-11-15T20:00:00",
          "2022-11-15T21:00:00",
          "2022-11-15T22:00:00",
          "2022-11-15T23:00:00",
          "2022-11-16T00:00:00",
          "2022-11-16T01:00:00",
          "2022-11-16T02:00:00",
          "2022-11-16T03:00:00",
          "2022-11-16T04:00:00",
          "2022-11-16T05:00:00",
          "2022-11-16T06:00:00",
          "2022-11-16T07:00:00",
          "2022-11-16T08:00:00",
          "2022-11-16T09:00:00",
          "2022-11-16T10:00:00",
          "2022-11-16T11:00:00",
          "2022-11-16T12:00:00",
          "2022-11-16T13:00:00",
          "2022-11-16T14:00:00",
          "2022-11-16T15:00:00",
          "2022-11-16T16:00:00",
          "2022-11-16T17:00:00",
          "2022-11-16T18:00:00",
          "2022-11-16T19:00:00",
          "2022-11-16T20:00:00",
          "2022-11-16T21:00:00",
          "2022-11-16T22:00:00",
          "2022-11-16T23:00:00",
          "2022-11-17T00:00:00",
          "2022-11-17T01:00:00",
          "2022-11-17T02:00:00",
          "2022-11-17T03:00:00",
          "2022-11-17T04:00:00",
          "2022-11-17T05:00:00",
          "2022-11-17T06:00:00",
          "2022-11-17T07:00:00",
          "2022-11-17T08:00:00",
          "2022-11-17T09:00:00",
          "2022-11-17T10:00:00",
          "2022-11-17T11:00:00",
          "2022-11-17T12:00:00",
          "2022-11-17T13:00:00",
          "2022-11-17T14:00:00",
          "2022-11-17T15:00:00",
          "2022-11-17T16:00:00",
          "2022-11-17T17:00:00",
          "2022-11-17T18:00:00",
          "2022-11-17T19:00:00",
          "2022-11-17T20:00:00",
          "2022-11-17T21:00:00",
          "2022-11-17T22:00:00",
          "2022-11-17T23:00:00",
          "2022-11-18T00:00:00",
          "2022-11-18T01:00:00",
          "2022-11-18T02:00:00",
          "2022-11-18T03:00:00",
          "2022-11-18T04:00:00",
          "2022-11-18T05:00:00",
          "2022-11-18T06:00:00",
          "2022-11-18T07:00:00",
          "2022-11-18T08:00:00",
          "2022-11-18T09:00:00",
          "2022-11-18T10:00:00",
          "2022-11-18T11:00:00",
          "2022-11-18T12:00:00",
          "2022-11-18T13:00:00",
          "2022-11-18T14:00:00",
          "2022-11-18T15:00:00",
          "2022-11-18T16:00:00",
          "2022-11-18T17:00:00",
          "2022-11-18T18:00:00",
          "2022-11-18T19:00:00",
          "2022-11-18T20:00:00",
          "2022-11-18T21:00:00",
          "2022-11-18T22:00:00",
          "2022-11-18T23:00:00",
          "2022-11-19T00:00:00",
          "2022-11-19T01:00:00",
          "2022-11-19T02:00:00",
          "2022-11-19T03:00:00",
          "2022-11-19T04:00:00",
          "2022-11-19T05:00:00",
          "2022-11-19T06:00:00",
          "2022-11-19T07:00:00",
          "2022-11-19T08:00:00",
          "2022-11-19T09:00:00",
          "2022-11-19T10:00:00",
          "2022-11-19T11:00:00",
          "2022-11-19T12:00:00",
          "2022-11-19T13:00:00",
          "2022-11-19T14:00:00",
          "2022-11-19T15:00:00",
          "2022-11-19T16:00:00",
          "2022-11-19T17:00:00",
          "2022-11-19T18:00:00",
          "2022-11-19T19:00:00",
          "2022-11-19T20:00:00",
          "2022-11-19T21:00:00",
          "2022-11-19T22:00:00",
          "2022-11-19T23:00:00",
          "2022-11-20T00:00:00",
          "2022-11-20T01:00:00",
          "2022-11-20T02:00:00",
          "2022-11-20T03:00:00",
          "2022-11-20T04:00:00",
          "2022-11-20T05:00:00",
          "2022-11-20T06:00:00",
          "2022-11-20T07:00:00",
          "2022-11-20T08:00:00",
          "2022-11-20T09:00:00",
          "2022-11-20T10:00:00",
          "2022-11-20T11:00:00",
          "2022-11-20T12:00:00",
          "2022-11-20T13:00:00",
          "2022-11-20T14:00:00",
          "2022-11-20T15:00:00",
          "2022-11-20T16:00:00",
          "2022-11-20T17:00:00",
          "2022-11-20T18:00:00",
          "2022-11-20T19:00:00",
          "2022-11-20T20:00:00",
          "2022-11-20T21:00:00",
          "2022-11-20T22:00:00",
          "2022-11-20T23:00:00",
          "2022-11-21T00:00:00",
          "2022-11-21T01:00:00",
          "2022-11-21T02:00:00",
          "2022-11-21T03:00:00",
          "2022-11-21T04:00:00",
          "2022-11-21T05:00:00",
          "2022-11-21T06:00:00",
          "2022-11-21T07:00:00",
          "2022-11-21T08:00:00",
          "2022-11-21T09:00:00",
          "2022-11-21T10:00:00",
          "2022-11-21T11:00:00",
          "2022-11-21T12:00:00",
          "2022-11-21T13:00:00",
          "2022-11-21T14:00:00",
          "2022-11-21T15:00:00",
          "2022-11-21T16:00:00",
          "2022-11-21T17:00:00",
          "2022-11-21T18:00:00",
          "2022-11-21T19:00:00",
          "2022-11-21T20:00:00",
          "2022-11-21T21:00:00",
          "2022-11-21T22:00:00",
          "2022-11-21T23:00:00",
          "2022-11-22T00:00:00",
          "2022-11-22T01:00:00",
          "2022-11-22T02:00:00",
          "2022-11-22T03:00:00",
          "2022-11-22T04:00:00",
          "2022-11-22T05:00:00",
          "2022-11-22T06:00:00",
          "2022-11-22T07:00:00",
          "2022-11-22T08:00:00",
          "2022-11-22T09:00:00",
          "2022-11-22T10:00:00"
         ],
         "xaxis": "x",
         "y": [
          0.13355,
          0.09460000000000002,
          0,
          0.34463333333333335,
          0.21286666666666668,
          0,
          0.4355,
          null,
          -0.12689999999999999,
          null,
          null,
          null,
          null,
          null,
          null,
          0.4404,
          null,
          null,
          null,
          null,
          null,
          null,
          0,
          0,
          null,
          null,
          null,
          0.6369,
          0.8555,
          null,
          null,
          null,
          null,
          null,
          null,
          null,
          null,
          null,
          null,
          null,
          null,
          null,
          null,
          0,
          null,
          null,
          null,
          0.8074,
          null,
          null,
          0.2023,
          null,
          null,
          null,
          0,
          null,
          null,
          null,
          null,
          null,
          null,
          null,
          null,
          null,
          null,
          null,
          null,
          0.4939,
          null,
          0,
          null,
          null,
          null,
          null,
          null,
          0.4215,
          0.4754,
          null,
          0,
          null,
          null,
          null,
          null,
          null,
          null,
          null,
          null,
          null,
          null,
          null,
          null,
          null,
          null,
          null,
          0.5106,
          null,
          null,
          null,
          null,
          0,
          null,
          null,
          null,
          null,
          null,
          null,
          null,
          null,
          null,
          null,
          null,
          null,
          null,
          null,
          null,
          null,
          null,
          null,
          null,
          null,
          null,
          null,
          null,
          null,
          null,
          null,
          null,
          null,
          null,
          null,
          null,
          null,
          null,
          null,
          null,
          null,
          null,
          null,
          null,
          null,
          null,
          0,
          null,
          null,
          null,
          null,
          null,
          null,
          null,
          null,
          null,
          null,
          0.6369,
          null,
          null,
          null,
          null,
          null,
          null,
          null,
          null,
          null,
          null,
          0.4588,
          null,
          null,
          0.3182,
          0.12605,
          null,
          null,
          null,
          null,
          0.4404,
          null,
          null,
          null,
          null,
          null,
          0.2732,
          null,
          null,
          null,
          null,
          null,
          null,
          null,
          null,
          0.4404,
          -0.2975,
          null,
          0,
          null,
          null,
          null,
          null,
          null,
          null,
          null,
          null,
          null,
          null,
          null,
          null,
          null,
          null,
          null,
          null,
          null,
          null,
          null,
          null,
          null,
          null,
          null,
          0,
          null,
          null,
          null,
          null,
          null,
          null,
          null,
          0,
          null,
          null,
          null,
          null,
          null,
          null,
          null,
          null,
          null,
          null,
          null,
          null,
          0,
          -0.4215,
          null,
          null,
          0,
          null,
          null,
          0,
          -0.4404,
          null,
          null,
          null,
          null,
          null,
          null,
          null,
          null,
          null,
          null,
          null,
          null,
          null,
          null,
          null,
          null,
          null,
          0.0951,
          null,
          null,
          null,
          null,
          null,
          null,
          null,
          null,
          null,
          null,
          null,
          null,
          null,
          null,
          null,
          null,
          null,
          null,
          null,
          null,
          null,
          null,
          null,
          0,
          null,
          null,
          null,
          0,
          null,
          null,
          null,
          null,
          null,
          null,
          null,
          null,
          null,
          null,
          null,
          null,
          null,
          null,
          null,
          null,
          null,
          null,
          null,
          null,
          null,
          0,
          null,
          0,
          null,
          null,
          null,
          null,
          null,
          null,
          null,
          null,
          null,
          null,
          null,
          null,
          null,
          null,
          0.4253,
          null,
          null,
          0,
          0.3818,
          null,
          null,
          null,
          0,
          null,
          null,
          null,
          null,
          null,
          null,
          0.4404,
          null,
          null,
          null,
          null,
          null,
          null,
          null,
          null,
          null,
          null,
          null,
          null,
          null,
          null,
          0.6369,
          null,
          null,
          0.6369,
          null,
          null,
          null,
          0.6369,
          null,
          null,
          null,
          null,
          null,
          null,
          null,
          null,
          null,
          null,
          null,
          null,
          null,
          null,
          0.2023,
          null,
          -0.6124,
          null,
          null,
          null,
          0,
          null,
          null,
          null,
          null,
          null,
          null,
          null,
          null,
          null,
          null,
          null,
          null,
          null,
          null,
          null,
          null,
          null,
          null,
          null,
          null,
          null,
          null,
          0.7269,
          null,
          null,
          null,
          null,
          null,
          null,
          null,
          null,
          null,
          null,
          null,
          null,
          null,
          null,
          null,
          null,
          null,
          null,
          null,
          null,
          null,
          null,
          null,
          null,
          null,
          null,
          null,
          null,
          null,
          null,
          null,
          null,
          null,
          null,
          null,
          null,
          null,
          null,
          null,
          null,
          null,
          null,
          0.6249,
          null,
          null,
          null,
          null,
          null,
          null,
          null,
          null,
          null,
          null,
          null,
          null,
          null,
          null,
          null,
          null,
          null,
          null,
          null,
          null,
          null,
          null,
          null,
          null,
          null,
          0.2023,
          0,
          null,
          null,
          null,
          null,
          null,
          null,
          null,
          0,
          null,
          null,
          null,
          null,
          null,
          null,
          null,
          null,
          null,
          null,
          null,
          null,
          null,
          null,
          null,
          0,
          0,
          null,
          null,
          null,
          null,
          null,
          null,
          null,
          null,
          null,
          null,
          null,
          null,
          null,
          null,
          null,
          null,
          null,
          null,
          null,
          null,
          0,
          null,
          -0.3818,
          null,
          null,
          null,
          null,
          null,
          null,
          null,
          null,
          null,
          0,
          null,
          null,
          null,
          null,
          null,
          null,
          null,
          null,
          null,
          null,
          null,
          null,
          0.46775,
          null,
          0,
          null,
          -0.3612,
          null,
          null,
          null,
          null,
          null,
          null,
          null,
          null,
          null,
          null,
          null,
          null,
          null,
          null,
          null,
          null,
          null,
          null,
          null,
          null,
          0,
          0.3818,
          0,
          null,
          null,
          null,
          null,
          null,
          null,
          null,
          -0.0258,
          null,
          null,
          null,
          null,
          null,
          null,
          null,
          null,
          null,
          null,
          null,
          null,
          null,
          null,
          null,
          null,
          null,
          null,
          null,
          null,
          null,
          null,
          null,
          null,
          null,
          null,
          null,
          null,
          null,
          null,
          null,
          null,
          null,
          null,
          null,
          0.34,
          null,
          -0.4404,
          null,
          -0.2023,
          null,
          null,
          null,
          null,
          null,
          null,
          null,
          null,
          null,
          null,
          null,
          null,
          null,
          null,
          null,
          null,
          null,
          0,
          null,
          null,
          null,
          0,
          null,
          null,
          null,
          null,
          null,
          null,
          null,
          null,
          null,
          0.6249,
          null,
          null,
          null,
          null,
          null,
          null,
          null,
          null,
          null,
          null,
          null,
          null,
          null,
          -0.4215,
          -0.2553
         ],
         "yaxis": "y"
        }
       ],
       "layout": {
        "autosize": true,
        "barmode": "relative",
        "legend": {
         "tracegroupgap": 0
        },
        "template": {
         "data": {
          "bar": [
           {
            "error_x": {
             "color": "#2a3f5f"
            },
            "error_y": {
             "color": "#2a3f5f"
            },
            "marker": {
             "line": {
              "color": "#E5ECF6",
              "width": 0.5
             },
             "pattern": {
              "fillmode": "overlay",
              "size": 10,
              "solidity": 0.2
             }
            },
            "type": "bar"
           }
          ],
          "barpolar": [
           {
            "marker": {
             "line": {
              "color": "#E5ECF6",
              "width": 0.5
             },
             "pattern": {
              "fillmode": "overlay",
              "size": 10,
              "solidity": 0.2
             }
            },
            "type": "barpolar"
           }
          ],
          "carpet": [
           {
            "aaxis": {
             "endlinecolor": "#2a3f5f",
             "gridcolor": "white",
             "linecolor": "white",
             "minorgridcolor": "white",
             "startlinecolor": "#2a3f5f"
            },
            "baxis": {
             "endlinecolor": "#2a3f5f",
             "gridcolor": "white",
             "linecolor": "white",
             "minorgridcolor": "white",
             "startlinecolor": "#2a3f5f"
            },
            "type": "carpet"
           }
          ],
          "choropleth": [
           {
            "colorbar": {
             "outlinewidth": 0,
             "ticks": ""
            },
            "type": "choropleth"
           }
          ],
          "contour": [
           {
            "colorbar": {
             "outlinewidth": 0,
             "ticks": ""
            },
            "colorscale": [
             [
              0,
              "#0d0887"
             ],
             [
              0.1111111111111111,
              "#46039f"
             ],
             [
              0.2222222222222222,
              "#7201a8"
             ],
             [
              0.3333333333333333,
              "#9c179e"
             ],
             [
              0.4444444444444444,
              "#bd3786"
             ],
             [
              0.5555555555555556,
              "#d8576b"
             ],
             [
              0.6666666666666666,
              "#ed7953"
             ],
             [
              0.7777777777777778,
              "#fb9f3a"
             ],
             [
              0.8888888888888888,
              "#fdca26"
             ],
             [
              1,
              "#f0f921"
             ]
            ],
            "type": "contour"
           }
          ],
          "contourcarpet": [
           {
            "colorbar": {
             "outlinewidth": 0,
             "ticks": ""
            },
            "type": "contourcarpet"
           }
          ],
          "heatmap": [
           {
            "colorbar": {
             "outlinewidth": 0,
             "ticks": ""
            },
            "colorscale": [
             [
              0,
              "#0d0887"
             ],
             [
              0.1111111111111111,
              "#46039f"
             ],
             [
              0.2222222222222222,
              "#7201a8"
             ],
             [
              0.3333333333333333,
              "#9c179e"
             ],
             [
              0.4444444444444444,
              "#bd3786"
             ],
             [
              0.5555555555555556,
              "#d8576b"
             ],
             [
              0.6666666666666666,
              "#ed7953"
             ],
             [
              0.7777777777777778,
              "#fb9f3a"
             ],
             [
              0.8888888888888888,
              "#fdca26"
             ],
             [
              1,
              "#f0f921"
             ]
            ],
            "type": "heatmap"
           }
          ],
          "heatmapgl": [
           {
            "colorbar": {
             "outlinewidth": 0,
             "ticks": ""
            },
            "colorscale": [
             [
              0,
              "#0d0887"
             ],
             [
              0.1111111111111111,
              "#46039f"
             ],
             [
              0.2222222222222222,
              "#7201a8"
             ],
             [
              0.3333333333333333,
              "#9c179e"
             ],
             [
              0.4444444444444444,
              "#bd3786"
             ],
             [
              0.5555555555555556,
              "#d8576b"
             ],
             [
              0.6666666666666666,
              "#ed7953"
             ],
             [
              0.7777777777777778,
              "#fb9f3a"
             ],
             [
              0.8888888888888888,
              "#fdca26"
             ],
             [
              1,
              "#f0f921"
             ]
            ],
            "type": "heatmapgl"
           }
          ],
          "histogram": [
           {
            "marker": {
             "pattern": {
              "fillmode": "overlay",
              "size": 10,
              "solidity": 0.2
             }
            },
            "type": "histogram"
           }
          ],
          "histogram2d": [
           {
            "colorbar": {
             "outlinewidth": 0,
             "ticks": ""
            },
            "colorscale": [
             [
              0,
              "#0d0887"
             ],
             [
              0.1111111111111111,
              "#46039f"
             ],
             [
              0.2222222222222222,
              "#7201a8"
             ],
             [
              0.3333333333333333,
              "#9c179e"
             ],
             [
              0.4444444444444444,
              "#bd3786"
             ],
             [
              0.5555555555555556,
              "#d8576b"
             ],
             [
              0.6666666666666666,
              "#ed7953"
             ],
             [
              0.7777777777777778,
              "#fb9f3a"
             ],
             [
              0.8888888888888888,
              "#fdca26"
             ],
             [
              1,
              "#f0f921"
             ]
            ],
            "type": "histogram2d"
           }
          ],
          "histogram2dcontour": [
           {
            "colorbar": {
             "outlinewidth": 0,
             "ticks": ""
            },
            "colorscale": [
             [
              0,
              "#0d0887"
             ],
             [
              0.1111111111111111,
              "#46039f"
             ],
             [
              0.2222222222222222,
              "#7201a8"
             ],
             [
              0.3333333333333333,
              "#9c179e"
             ],
             [
              0.4444444444444444,
              "#bd3786"
             ],
             [
              0.5555555555555556,
              "#d8576b"
             ],
             [
              0.6666666666666666,
              "#ed7953"
             ],
             [
              0.7777777777777778,
              "#fb9f3a"
             ],
             [
              0.8888888888888888,
              "#fdca26"
             ],
             [
              1,
              "#f0f921"
             ]
            ],
            "type": "histogram2dcontour"
           }
          ],
          "mesh3d": [
           {
            "colorbar": {
             "outlinewidth": 0,
             "ticks": ""
            },
            "type": "mesh3d"
           }
          ],
          "parcoords": [
           {
            "line": {
             "colorbar": {
              "outlinewidth": 0,
              "ticks": ""
             }
            },
            "type": "parcoords"
           }
          ],
          "pie": [
           {
            "automargin": true,
            "type": "pie"
           }
          ],
          "scatter": [
           {
            "fillpattern": {
             "fillmode": "overlay",
             "size": 10,
             "solidity": 0.2
            },
            "type": "scatter"
           }
          ],
          "scatter3d": [
           {
            "line": {
             "colorbar": {
              "outlinewidth": 0,
              "ticks": ""
             }
            },
            "marker": {
             "colorbar": {
              "outlinewidth": 0,
              "ticks": ""
             }
            },
            "type": "scatter3d"
           }
          ],
          "scattercarpet": [
           {
            "marker": {
             "colorbar": {
              "outlinewidth": 0,
              "ticks": ""
             }
            },
            "type": "scattercarpet"
           }
          ],
          "scattergeo": [
           {
            "marker": {
             "colorbar": {
              "outlinewidth": 0,
              "ticks": ""
             }
            },
            "type": "scattergeo"
           }
          ],
          "scattergl": [
           {
            "marker": {
             "colorbar": {
              "outlinewidth": 0,
              "ticks": ""
             }
            },
            "type": "scattergl"
           }
          ],
          "scattermapbox": [
           {
            "marker": {
             "colorbar": {
              "outlinewidth": 0,
              "ticks": ""
             }
            },
            "type": "scattermapbox"
           }
          ],
          "scatterpolar": [
           {
            "marker": {
             "colorbar": {
              "outlinewidth": 0,
              "ticks": ""
             }
            },
            "type": "scatterpolar"
           }
          ],
          "scatterpolargl": [
           {
            "marker": {
             "colorbar": {
              "outlinewidth": 0,
              "ticks": ""
             }
            },
            "type": "scatterpolargl"
           }
          ],
          "scatterternary": [
           {
            "marker": {
             "colorbar": {
              "outlinewidth": 0,
              "ticks": ""
             }
            },
            "type": "scatterternary"
           }
          ],
          "surface": [
           {
            "colorbar": {
             "outlinewidth": 0,
             "ticks": ""
            },
            "colorscale": [
             [
              0,
              "#0d0887"
             ],
             [
              0.1111111111111111,
              "#46039f"
             ],
             [
              0.2222222222222222,
              "#7201a8"
             ],
             [
              0.3333333333333333,
              "#9c179e"
             ],
             [
              0.4444444444444444,
              "#bd3786"
             ],
             [
              0.5555555555555556,
              "#d8576b"
             ],
             [
              0.6666666666666666,
              "#ed7953"
             ],
             [
              0.7777777777777778,
              "#fb9f3a"
             ],
             [
              0.8888888888888888,
              "#fdca26"
             ],
             [
              1,
              "#f0f921"
             ]
            ],
            "type": "surface"
           }
          ],
          "table": [
           {
            "cells": {
             "fill": {
              "color": "#EBF0F8"
             },
             "line": {
              "color": "white"
             }
            },
            "header": {
             "fill": {
              "color": "#C8D4E3"
             },
             "line": {
              "color": "white"
             }
            },
            "type": "table"
           }
          ]
         },
         "layout": {
          "annotationdefaults": {
           "arrowcolor": "#2a3f5f",
           "arrowhead": 0,
           "arrowwidth": 1
          },
          "autotypenumbers": "strict",
          "coloraxis": {
           "colorbar": {
            "outlinewidth": 0,
            "ticks": ""
           }
          },
          "colorscale": {
           "diverging": [
            [
             0,
             "#8e0152"
            ],
            [
             0.1,
             "#c51b7d"
            ],
            [
             0.2,
             "#de77ae"
            ],
            [
             0.3,
             "#f1b6da"
            ],
            [
             0.4,
             "#fde0ef"
            ],
            [
             0.5,
             "#f7f7f7"
            ],
            [
             0.6,
             "#e6f5d0"
            ],
            [
             0.7,
             "#b8e186"
            ],
            [
             0.8,
             "#7fbc41"
            ],
            [
             0.9,
             "#4d9221"
            ],
            [
             1,
             "#276419"
            ]
           ],
           "sequential": [
            [
             0,
             "#0d0887"
            ],
            [
             0.1111111111111111,
             "#46039f"
            ],
            [
             0.2222222222222222,
             "#7201a8"
            ],
            [
             0.3333333333333333,
             "#9c179e"
            ],
            [
             0.4444444444444444,
             "#bd3786"
            ],
            [
             0.5555555555555556,
             "#d8576b"
            ],
            [
             0.6666666666666666,
             "#ed7953"
            ],
            [
             0.7777777777777778,
             "#fb9f3a"
            ],
            [
             0.8888888888888888,
             "#fdca26"
            ],
            [
             1,
             "#f0f921"
            ]
           ],
           "sequentialminus": [
            [
             0,
             "#0d0887"
            ],
            [
             0.1111111111111111,
             "#46039f"
            ],
            [
             0.2222222222222222,
             "#7201a8"
            ],
            [
             0.3333333333333333,
             "#9c179e"
            ],
            [
             0.4444444444444444,
             "#bd3786"
            ],
            [
             0.5555555555555556,
             "#d8576b"
            ],
            [
             0.6666666666666666,
             "#ed7953"
            ],
            [
             0.7777777777777778,
             "#fb9f3a"
            ],
            [
             0.8888888888888888,
             "#fdca26"
            ],
            [
             1,
             "#f0f921"
            ]
           ]
          },
          "colorway": [
           "#636efa",
           "#EF553B",
           "#00cc96",
           "#ab63fa",
           "#FFA15A",
           "#19d3f3",
           "#FF6692",
           "#B6E880",
           "#FF97FF",
           "#FECB52"
          ],
          "font": {
           "color": "#2a3f5f"
          },
          "geo": {
           "bgcolor": "white",
           "lakecolor": "white",
           "landcolor": "#E5ECF6",
           "showlakes": true,
           "showland": true,
           "subunitcolor": "white"
          },
          "hoverlabel": {
           "align": "left"
          },
          "hovermode": "closest",
          "mapbox": {
           "style": "light"
          },
          "paper_bgcolor": "white",
          "plot_bgcolor": "#E5ECF6",
          "polar": {
           "angularaxis": {
            "gridcolor": "white",
            "linecolor": "white",
            "ticks": ""
           },
           "bgcolor": "#E5ECF6",
           "radialaxis": {
            "gridcolor": "white",
            "linecolor": "white",
            "ticks": ""
           }
          },
          "scene": {
           "xaxis": {
            "backgroundcolor": "#E5ECF6",
            "gridcolor": "white",
            "gridwidth": 2,
            "linecolor": "white",
            "showbackground": true,
            "ticks": "",
            "zerolinecolor": "white"
           },
           "yaxis": {
            "backgroundcolor": "#E5ECF6",
            "gridcolor": "white",
            "gridwidth": 2,
            "linecolor": "white",
            "showbackground": true,
            "ticks": "",
            "zerolinecolor": "white"
           },
           "zaxis": {
            "backgroundcolor": "#E5ECF6",
            "gridcolor": "white",
            "gridwidth": 2,
            "linecolor": "white",
            "showbackground": true,
            "ticks": "",
            "zerolinecolor": "white"
           }
          },
          "shapedefaults": {
           "line": {
            "color": "#2a3f5f"
           }
          },
          "ternary": {
           "aaxis": {
            "gridcolor": "white",
            "linecolor": "white",
            "ticks": ""
           },
           "baxis": {
            "gridcolor": "white",
            "linecolor": "white",
            "ticks": ""
           },
           "bgcolor": "#E5ECF6",
           "caxis": {
            "gridcolor": "white",
            "linecolor": "white",
            "ticks": ""
           }
          },
          "title": {
           "x": 0.05
          },
          "xaxis": {
           "automargin": true,
           "gridcolor": "white",
           "linecolor": "white",
           "ticks": "",
           "title": {
            "standoff": 15
           },
           "zerolinecolor": "white",
           "zerolinewidth": 2
          },
          "yaxis": {
           "automargin": true,
           "gridcolor": "white",
           "linecolor": "white",
           "ticks": "",
           "title": {
            "standoff": 15
           },
           "zerolinecolor": "white",
           "zerolinewidth": 2
          }
         }
        },
        "title": {
         "text": "KO Hourly Sentiment Scores"
        },
        "xaxis": {
         "anchor": "y",
         "autorange": true,
         "domain": [
          0,
          1
         ],
         "range": [
          "2022-10-25 09:30",
          "2022-11-22 10:30"
         ],
         "title": {
          "text": "datetime"
         },
         "type": "date"
        },
        "yaxis": {
         "anchor": "x",
         "autorange": true,
         "domain": [
          0,
          1
         ],
         "range": [
          -0.6939500000000001,
          0.93705
         ],
         "title": {
          "text": "sentiment_score"
         },
         "type": "linear"
        }
       }
      },
      "image/png": "[encoded data removed]",
      "text/html": [
       "<div>                            <div id=\"977bb3e0-e39d-407c-81a1-15893b1369f4\" class=\"plotly-graph-div\" style=\"height:525px; width:100%;\"></div>            <script type=\"text/javascript\">                require([\"plotly\"], function(Plotly) {                    window.PLOTLYENV=window.PLOTLYENV || {};                                    if (document.getElementById(\"977bb3e0-e39d-407c-81a1-15893b1369f4\")) {                    Plotly.newPlot(                        \"977bb3e0-e39d-407c-81a1-15893b1369f4\",                        [{\"alignmentgroup\":\"True\",\"hovertemplate\":\"datetime=%{x}<br>sentiment_score=%{y}<extra></extra>\",\"legendgroup\":\"\",\"marker\":{\"color\":\"#636efa\",\"pattern\":{\"shape\":\"\"}},\"name\":\"\",\"offsetgroup\":\"\",\"orientation\":\"v\",\"showlegend\":false,\"textposition\":\"auto\",\"x\":[\"2022-10-25T10:00:00\",\"2022-10-25T11:00:00\",\"2022-10-25T12:00:00\",\"2022-10-25T13:00:00\",\"2022-10-25T14:00:00\",\"2022-10-25T15:00:00\",\"2022-10-25T16:00:00\",\"2022-10-25T17:00:00\",\"2022-10-25T18:00:00\",\"2022-10-25T19:00:00\",\"2022-10-25T20:00:00\",\"2022-10-25T21:00:00\",\"2022-10-25T22:00:00\",\"2022-10-25T23:00:00\",\"2022-10-26T00:00:00\",\"2022-10-26T01:00:00\",\"2022-10-26T02:00:00\",\"2022-10-26T03:00:00\",\"2022-10-26T04:00:00\",\"2022-10-26T05:00:00\",\"2022-10-26T06:00:00\",\"2022-10-26T07:00:00\",\"2022-10-26T08:00:00\",\"2022-10-26T09:00:00\",\"2022-10-26T10:00:00\",\"2022-10-26T11:00:00\",\"2022-10-26T12:00:00\",\"2022-10-26T13:00:00\",\"2022-10-26T14:00:00\",\"2022-10-26T15:00:00\",\"2022-10-26T16:00:00\",\"2022-10-26T17:00:00\",\"2022-10-26T18:00:00\",\"2022-10-26T19:00:00\",\"2022-10-26T20:00:00\",\"2022-10-26T21:00:00\",\"2022-10-26T22:00:00\",\"2022-10-26T23:00:00\",\"2022-10-27T00:00:00\",\"2022-10-27T01:00:00\",\"2022-10-27T02:00:00\",\"2022-10-27T03:00:00\",\"2022-10-27T04:00:00\",\"2022-10-27T05:00:00\",\"2022-10-27T06:00:00\",\"2022-10-27T07:00:00\",\"2022-10-27T08:00:00\",\"2022-10-27T09:00:00\",\"2022-10-27T10:00:00\",\"2022-10-27T11:00:00\",\"2022-10-27T12:00:00\",\"2022-10-27T13:00:00\",\"2022-10-27T14:00:00\",\"2022-10-27T15:00:00\",\"2022-10-27T16:00:00\",\"2022-10-27T17:00:00\",\"2022-10-27T18:00:00\",\"2022-10-27T19:00:00\",\"2022-10-27T20:00:00\",\"2022-10-27T21:00:00\",\"2022-10-27T22:00:00\",\"2022-10-27T23:00:00\",\"2022-10-28T00:00:00\",\"2022-10-28T01:00:00\",\"2022-10-28T02:00:00\",\"2022-10-28T03:00:00\",\"2022-10-28T04:00:00\",\"2022-10-28T05:00:00\",\"2022-10-28T06:00:00\",\"2022-10-28T07:00:00\",\"2022-10-28T08:00:00\",\"2022-10-28T09:00:00\",\"2022-10-28T10:00:00\",\"2022-10-28T11:00:00\",\"2022-10-28T12:00:00\",\"2022-10-28T13:00:00\",\"2022-10-28T14:00:00\",\"2022-10-28T15:00:00\",\"2022-10-28T16:00:00\",\"2022-10-28T17:00:00\",\"2022-10-28T18:00:00\",\"2022-10-28T19:00:00\",\"2022-10-28T20:00:00\",\"2022-10-28T21:00:00\",\"2022-10-28T22:00:00\",\"2022-10-28T23:00:00\",\"2022-10-29T00:00:00\",\"2022-10-29T01:00:00\",\"2022-10-29T02:00:00\",\"2022-10-29T03:00:00\",\"2022-10-29T04:00:00\",\"2022-10-29T05:00:00\",\"2022-10-29T06:00:00\",\"2022-10-29T07:00:00\",\"2022-10-29T08:00:00\",\"2022-10-29T09:00:00\",\"2022-10-29T10:00:00\",\"2022-10-29T11:00:00\",\"2022-10-29T12:00:00\",\"2022-10-29T13:00:00\",\"2022-10-29T14:00:00\",\"2022-10-29T15:00:00\",\"2022-10-29T16:00:00\",\"2022-10-29T17:00:00\",\"2022-10-29T18:00:00\",\"2022-10-29T19:00:00\",\"2022-10-29T20:00:00\",\"2022-10-29T21:00:00\",\"2022-10-29T22:00:00\",\"2022-10-29T23:00:00\",\"2022-10-30T00:00:00\",\"2022-10-30T01:00:00\",\"2022-10-30T02:00:00\",\"2022-10-30T03:00:00\",\"2022-10-30T04:00:00\",\"2022-10-30T05:00:00\",\"2022-10-30T06:00:00\",\"2022-10-30T07:00:00\",\"2022-10-30T08:00:00\",\"2022-10-30T09:00:00\",\"2022-10-30T10:00:00\",\"2022-10-30T11:00:00\",\"2022-10-30T12:00:00\",\"2022-10-30T13:00:00\",\"2022-10-30T14:00:00\",\"2022-10-30T15:00:00\",\"2022-10-30T16:00:00\",\"2022-10-30T17:00:00\",\"2022-10-30T18:00:00\",\"2022-10-30T19:00:00\",\"2022-10-30T20:00:00\",\"2022-10-30T21:00:00\",\"2022-10-30T22:00:00\",\"2022-10-30T23:00:00\",\"2022-10-31T00:00:00\",\"2022-10-31T01:00:00\",\"2022-10-31T02:00:00\",\"2022-10-31T03:00:00\",\"2022-10-31T04:00:00\",\"2022-10-31T05:00:00\",\"2022-10-31T06:00:00\",\"2022-10-31T07:00:00\",\"2022-10-31T08:00:00\",\"2022-10-31T09:00:00\",\"2022-10-31T10:00:00\",\"2022-10-31T11:00:00\",\"2022-10-31T12:00:00\",\"2022-10-31T13:00:00\",\"2022-10-31T14:00:00\",\"2022-10-31T15:00:00\",\"2022-10-31T16:00:00\",\"2022-10-31T17:00:00\",\"2022-10-31T18:00:00\",\"2022-10-31T19:00:00\",\"2022-10-31T20:00:00\",\"2022-10-31T21:00:00\",\"2022-10-31T22:00:00\",\"2022-10-31T23:00:00\",\"2022-11-01T00:00:00\",\"2022-11-01T01:00:00\",\"2022-11-01T02:00:00\",\"2022-11-01T03:00:00\",\"2022-11-01T04:00:00\",\"2022-11-01T05:00:00\",\"2022-11-01T06:00:00\",\"2022-11-01T07:00:00\",\"2022-11-01T08:00:00\",\"2022-11-01T09:00:00\",\"2022-11-01T10:00:00\",\"2022-11-01T11:00:00\",\"2022-11-01T12:00:00\",\"2022-11-01T13:00:00\",\"2022-11-01T14:00:00\",\"2022-11-01T15:00:00\",\"2022-11-01T16:00:00\",\"2022-11-01T17:00:00\",\"2022-11-01T18:00:00\",\"2022-11-01T19:00:00\",\"2022-11-01T20:00:00\",\"2022-11-01T21:00:00\",\"2022-11-01T22:00:00\",\"2022-11-01T23:00:00\",\"2022-11-02T00:00:00\",\"2022-11-02T01:00:00\",\"2022-11-02T02:00:00\",\"2022-11-02T03:00:00\",\"2022-11-02T04:00:00\",\"2022-11-02T05:00:00\",\"2022-11-02T06:00:00\",\"2022-11-02T07:00:00\",\"2022-11-02T08:00:00\",\"2022-11-02T09:00:00\",\"2022-11-02T10:00:00\",\"2022-11-02T11:00:00\",\"2022-11-02T12:00:00\",\"2022-11-02T13:00:00\",\"2022-11-02T14:00:00\",\"2022-11-02T15:00:00\",\"2022-11-02T16:00:00\",\"2022-11-02T17:00:00\",\"2022-11-02T18:00:00\",\"2022-11-02T19:00:00\",\"2022-11-02T20:00:00\",\"2022-11-02T21:00:00\",\"2022-11-02T22:00:00\",\"2022-11-02T23:00:00\",\"2022-11-03T00:00:00\",\"2022-11-03T01:00:00\",\"2022-11-03T02:00:00\",\"2022-11-03T03:00:00\",\"2022-11-03T04:00:00\",\"2022-11-03T05:00:00\",\"2022-11-03T06:00:00\",\"2022-11-03T07:00:00\",\"2022-11-03T08:00:00\",\"2022-11-03T09:00:00\",\"2022-11-03T10:00:00\",\"2022-11-03T11:00:00\",\"2022-11-03T12:00:00\",\"2022-11-03T13:00:00\",\"2022-11-03T14:00:00\",\"2022-11-03T15:00:00\",\"2022-11-03T16:00:00\",\"2022-11-03T17:00:00\",\"2022-11-03T18:00:00\",\"2022-11-03T19:00:00\",\"2022-11-03T20:00:00\",\"2022-11-03T21:00:00\",\"2022-11-03T22:00:00\",\"2022-11-03T23:00:00\",\"2022-11-04T00:00:00\",\"2022-11-04T01:00:00\",\"2022-11-04T02:00:00\",\"2022-11-04T03:00:00\",\"2022-11-04T04:00:00\",\"2022-11-04T05:00:00\",\"2022-11-04T06:00:00\",\"2022-11-04T07:00:00\",\"2022-11-04T08:00:00\",\"2022-11-04T09:00:00\",\"2022-11-04T10:00:00\",\"2022-11-04T11:00:00\",\"2022-11-04T12:00:00\",\"2022-11-04T13:00:00\",\"2022-11-04T14:00:00\",\"2022-11-04T15:00:00\",\"2022-11-04T16:00:00\",\"2022-11-04T17:00:00\",\"2022-11-04T18:00:00\",\"2022-11-04T19:00:00\",\"2022-11-04T20:00:00\",\"2022-11-04T21:00:00\",\"2022-11-04T22:00:00\",\"2022-11-04T23:00:00\",\"2022-11-05T00:00:00\",\"2022-11-05T01:00:00\",\"2022-11-05T02:00:00\",\"2022-11-05T03:00:00\",\"2022-11-05T04:00:00\",\"2022-11-05T05:00:00\",\"2022-11-05T06:00:00\",\"2022-11-05T07:00:00\",\"2022-11-05T08:00:00\",\"2022-11-05T09:00:00\",\"2022-11-05T10:00:00\",\"2022-11-05T11:00:00\",\"2022-11-05T12:00:00\",\"2022-11-05T13:00:00\",\"2022-11-05T14:00:00\",\"2022-11-05T15:00:00\",\"2022-11-05T16:00:00\",\"2022-11-05T17:00:00\",\"2022-11-05T18:00:00\",\"2022-11-05T19:00:00\",\"2022-11-05T20:00:00\",\"2022-11-05T21:00:00\",\"2022-11-05T22:00:00\",\"2022-11-05T23:00:00\",\"2022-11-06T00:00:00\",\"2022-11-06T01:00:00\",\"2022-11-06T02:00:00\",\"2022-11-06T03:00:00\",\"2022-11-06T04:00:00\",\"2022-11-06T05:00:00\",\"2022-11-06T06:00:00\",\"2022-11-06T07:00:00\",\"2022-11-06T08:00:00\",\"2022-11-06T09:00:00\",\"2022-11-06T10:00:00\",\"2022-11-06T11:00:00\",\"2022-11-06T12:00:00\",\"2022-11-06T13:00:00\",\"2022-11-06T14:00:00\",\"2022-11-06T15:00:00\",\"2022-11-06T16:00:00\",\"2022-11-06T17:00:00\",\"2022-11-06T18:00:00\",\"2022-11-06T19:00:00\",\"2022-11-06T20:00:00\",\"2022-11-06T21:00:00\",\"2022-11-06T22:00:00\",\"2022-11-06T23:00:00\",\"2022-11-07T00:00:00\",\"2022-11-07T01:00:00\",\"2022-11-07T02:00:00\",\"2022-11-07T03:00:00\",\"2022-11-07T04:00:00\",\"2022-11-07T05:00:00\",\"2022-11-07T06:00:00\",\"2022-11-07T07:00:00\",\"2022-11-07T08:00:00\",\"2022-11-07T09:00:00\",\"2022-11-07T10:00:00\",\"2022-11-07T11:00:00\",\"2022-11-07T12:00:00\",\"2022-11-07T13:00:00\",\"2022-11-07T14:00:00\",\"2022-11-07T15:00:00\",\"2022-11-07T16:00:00\",\"2022-11-07T17:00:00\",\"2022-11-07T18:00:00\",\"2022-11-07T19:00:00\",\"2022-11-07T20:00:00\",\"2022-11-07T21:00:00\",\"2022-11-07T22:00:00\",\"2022-11-07T23:00:00\",\"2022-11-08T00:00:00\",\"2022-11-08T01:00:00\",\"2022-11-08T02:00:00\",\"2022-11-08T03:00:00\",\"2022-11-08T04:00:00\",\"2022-11-08T05:00:00\",\"2022-11-08T06:00:00\",\"2022-11-08T07:00:00\",\"2022-11-08T08:00:00\",\"2022-11-08T09:00:00\",\"2022-11-08T10:00:00\",\"2022-11-08T11:00:00\",\"2022-11-08T12:00:00\",\"2022-11-08T13:00:00\",\"2022-11-08T14:00:00\",\"2022-11-08T15:00:00\",\"2022-11-08T16:00:00\",\"2022-11-08T17:00:00\",\"2022-11-08T18:00:00\",\"2022-11-08T19:00:00\",\"2022-11-08T20:00:00\",\"2022-11-08T21:00:00\",\"2022-11-08T22:00:00\",\"2022-11-08T23:00:00\",\"2022-11-09T00:00:00\",\"2022-11-09T01:00:00\",\"2022-11-09T02:00:00\",\"2022-11-09T03:00:00\",\"2022-11-09T04:00:00\",\"2022-11-09T05:00:00\",\"2022-11-09T06:00:00\",\"2022-11-09T07:00:00\",\"2022-11-09T08:00:00\",\"2022-11-09T09:00:00\",\"2022-11-09T10:00:00\",\"2022-11-09T11:00:00\",\"2022-11-09T12:00:00\",\"2022-11-09T13:00:00\",\"2022-11-09T14:00:00\",\"2022-11-09T15:00:00\",\"2022-11-09T16:00:00\",\"2022-11-09T17:00:00\",\"2022-11-09T18:00:00\",\"2022-11-09T19:00:00\",\"2022-11-09T20:00:00\",\"2022-11-09T21:00:00\",\"2022-11-09T22:00:00\",\"2022-11-09T23:00:00\",\"2022-11-10T00:00:00\",\"2022-11-10T01:00:00\",\"2022-11-10T02:00:00\",\"2022-11-10T03:00:00\",\"2022-11-10T04:00:00\",\"2022-11-10T05:00:00\",\"2022-11-10T06:00:00\",\"2022-11-10T07:00:00\",\"2022-11-10T08:00:00\",\"2022-11-10T09:00:00\",\"2022-11-10T10:00:00\",\"2022-11-10T11:00:00\",\"2022-11-10T12:00:00\",\"2022-11-10T13:00:00\",\"2022-11-10T14:00:00\",\"2022-11-10T15:00:00\",\"2022-11-10T16:00:00\",\"2022-11-10T17:00:00\",\"2022-11-10T18:00:00\",\"2022-11-10T19:00:00\",\"2022-11-10T20:00:00\",\"2022-11-10T21:00:00\",\"2022-11-10T22:00:00\",\"2022-11-10T23:00:00\",\"2022-11-11T00:00:00\",\"2022-11-11T01:00:00\",\"2022-11-11T02:00:00\",\"2022-11-11T03:00:00\",\"2022-11-11T04:00:00\",\"2022-11-11T05:00:00\",\"2022-11-11T06:00:00\",\"2022-11-11T07:00:00\",\"2022-11-11T08:00:00\",\"2022-11-11T09:00:00\",\"2022-11-11T10:00:00\",\"2022-11-11T11:00:00\",\"2022-11-11T12:00:00\",\"2022-11-11T13:00:00\",\"2022-11-11T14:00:00\",\"2022-11-11T15:00:00\",\"2022-11-11T16:00:00\",\"2022-11-11T17:00:00\",\"2022-11-11T18:00:00\",\"2022-11-11T19:00:00\",\"2022-11-11T20:00:00\",\"2022-11-11T21:00:00\",\"2022-11-11T22:00:00\",\"2022-11-11T23:00:00\",\"2022-11-12T00:00:00\",\"2022-11-12T01:00:00\",\"2022-11-12T02:00:00\",\"2022-11-12T03:00:00\",\"2022-11-12T04:00:00\",\"2022-11-12T05:00:00\",\"2022-11-12T06:00:00\",\"2022-11-12T07:00:00\",\"2022-11-12T08:00:00\",\"2022-11-12T09:00:00\",\"2022-11-12T10:00:00\",\"2022-11-12T11:00:00\",\"2022-11-12T12:00:00\",\"2022-11-12T13:00:00\",\"2022-11-12T14:00:00\",\"2022-11-12T15:00:00\",\"2022-11-12T16:00:00\",\"2022-11-12T17:00:00\",\"2022-11-12T18:00:00\",\"2022-11-12T19:00:00\",\"2022-11-12T20:00:00\",\"2022-11-12T21:00:00\",\"2022-11-12T22:00:00\",\"2022-11-12T23:00:00\",\"2022-11-13T00:00:00\",\"2022-11-13T01:00:00\",\"2022-11-13T02:00:00\",\"2022-11-13T03:00:00\",\"2022-11-13T04:00:00\",\"2022-11-13T05:00:00\",\"2022-11-13T06:00:00\",\"2022-11-13T07:00:00\",\"2022-11-13T08:00:00\",\"2022-11-13T09:00:00\",\"2022-11-13T10:00:00\",\"2022-11-13T11:00:00\",\"2022-11-13T12:00:00\",\"2022-11-13T13:00:00\",\"2022-11-13T14:00:00\",\"2022-11-13T15:00:00\",\"2022-11-13T16:00:00\",\"2022-11-13T17:00:00\",\"2022-11-13T18:00:00\",\"2022-11-13T19:00:00\",\"2022-11-13T20:00:00\",\"2022-11-13T21:00:00\",\"2022-11-13T22:00:00\",\"2022-11-13T23:00:00\",\"2022-11-14T00:00:00\",\"2022-11-14T01:00:00\",\"2022-11-14T02:00:00\",\"2022-11-14T03:00:00\",\"2022-11-14T04:00:00\",\"2022-11-14T05:00:00\",\"2022-11-14T06:00:00\",\"2022-11-14T07:00:00\",\"2022-11-14T08:00:00\",\"2022-11-14T09:00:00\",\"2022-11-14T10:00:00\",\"2022-11-14T11:00:00\",\"2022-11-14T12:00:00\",\"2022-11-14T13:00:00\",\"2022-11-14T14:00:00\",\"2022-11-14T15:00:00\",\"2022-11-14T16:00:00\",\"2022-11-14T17:00:00\",\"2022-11-14T18:00:00\",\"2022-11-14T19:00:00\",\"2022-11-14T20:00:00\",\"2022-11-14T21:00:00\",\"2022-11-14T22:00:00\",\"2022-11-14T23:00:00\",\"2022-11-15T00:00:00\",\"2022-11-15T01:00:00\",\"2022-11-15T02:00:00\",\"2022-11-15T03:00:00\",\"2022-11-15T04:00:00\",\"2022-11-15T05:00:00\",\"2022-11-15T06:00:00\",\"2022-11-15T07:00:00\",\"2022-11-15T08:00:00\",\"2022-11-15T09:00:00\",\"2022-11-15T10:00:00\",\"2022-11-15T11:00:00\",\"2022-11-15T12:00:00\",\"2022-11-15T13:00:00\",\"2022-11-15T14:00:00\",\"2022-11-15T15:00:00\",\"2022-11-15T16:00:00\",\"2022-11-15T17:00:00\",\"2022-11-15T18:00:00\",\"2022-11-15T19:00:00\",\"2022-11-15T20:00:00\",\"2022-11-15T21:00:00\",\"2022-11-15T22:00:00\",\"2022-11-15T23:00:00\",\"2022-11-16T00:00:00\",\"2022-11-16T01:00:00\",\"2022-11-16T02:00:00\",\"2022-11-16T03:00:00\",\"2022-11-16T04:00:00\",\"2022-11-16T05:00:00\",\"2022-11-16T06:00:00\",\"2022-11-16T07:00:00\",\"2022-11-16T08:00:00\",\"2022-11-16T09:00:00\",\"2022-11-16T10:00:00\",\"2022-11-16T11:00:00\",\"2022-11-16T12:00:00\",\"2022-11-16T13:00:00\",\"2022-11-16T14:00:00\",\"2022-11-16T15:00:00\",\"2022-11-16T16:00:00\",\"2022-11-16T17:00:00\",\"2022-11-16T18:00:00\",\"2022-11-16T19:00:00\",\"2022-11-16T20:00:00\",\"2022-11-16T21:00:00\",\"2022-11-16T22:00:00\",\"2022-11-16T23:00:00\",\"2022-11-17T00:00:00\",\"2022-11-17T01:00:00\",\"2022-11-17T02:00:00\",\"2022-11-17T03:00:00\",\"2022-11-17T04:00:00\",\"2022-11-17T05:00:00\",\"2022-11-17T06:00:00\",\"2022-11-17T07:00:00\",\"2022-11-17T08:00:00\",\"2022-11-17T09:00:00\",\"2022-11-17T10:00:00\",\"2022-11-17T11:00:00\",\"2022-11-17T12:00:00\",\"2022-11-17T13:00:00\",\"2022-11-17T14:00:00\",\"2022-11-17T15:00:00\",\"2022-11-17T16:00:00\",\"2022-11-17T17:00:00\",\"2022-11-17T18:00:00\",\"2022-11-17T19:00:00\",\"2022-11-17T20:00:00\",\"2022-11-17T21:00:00\",\"2022-11-17T22:00:00\",\"2022-11-17T23:00:00\",\"2022-11-18T00:00:00\",\"2022-11-18T01:00:00\",\"2022-11-18T02:00:00\",\"2022-11-18T03:00:00\",\"2022-11-18T04:00:00\",\"2022-11-18T05:00:00\",\"2022-11-18T06:00:00\",\"2022-11-18T07:00:00\",\"2022-11-18T08:00:00\",\"2022-11-18T09:00:00\",\"2022-11-18T10:00:00\",\"2022-11-18T11:00:00\",\"2022-11-18T12:00:00\",\"2022-11-18T13:00:00\",\"2022-11-18T14:00:00\",\"2022-11-18T15:00:00\",\"2022-11-18T16:00:00\",\"2022-11-18T17:00:00\",\"2022-11-18T18:00:00\",\"2022-11-18T19:00:00\",\"2022-11-18T20:00:00\",\"2022-11-18T21:00:00\",\"2022-11-18T22:00:00\",\"2022-11-18T23:00:00\",\"2022-11-19T00:00:00\",\"2022-11-19T01:00:00\",\"2022-11-19T02:00:00\",\"2022-11-19T03:00:00\",\"2022-11-19T04:00:00\",\"2022-11-19T05:00:00\",\"2022-11-19T06:00:00\",\"2022-11-19T07:00:00\",\"2022-11-19T08:00:00\",\"2022-11-19T09:00:00\",\"2022-11-19T10:00:00\",\"2022-11-19T11:00:00\",\"2022-11-19T12:00:00\",\"2022-11-19T13:00:00\",\"2022-11-19T14:00:00\",\"2022-11-19T15:00:00\",\"2022-11-19T16:00:00\",\"2022-11-19T17:00:00\",\"2022-11-19T18:00:00\",\"2022-11-19T19:00:00\",\"2022-11-19T20:00:00\",\"2022-11-19T21:00:00\",\"2022-11-19T22:00:00\",\"2022-11-19T23:00:00\",\"2022-11-20T00:00:00\",\"2022-11-20T01:00:00\",\"2022-11-20T02:00:00\",\"2022-11-20T03:00:00\",\"2022-11-20T04:00:00\",\"2022-11-20T05:00:00\",\"2022-11-20T06:00:00\",\"2022-11-20T07:00:00\",\"2022-11-20T08:00:00\",\"2022-11-20T09:00:00\",\"2022-11-20T10:00:00\",\"2022-11-20T11:00:00\",\"2022-11-20T12:00:00\",\"2022-11-20T13:00:00\",\"2022-11-20T14:00:00\",\"2022-11-20T15:00:00\",\"2022-11-20T16:00:00\",\"2022-11-20T17:00:00\",\"2022-11-20T18:00:00\",\"2022-11-20T19:00:00\",\"2022-11-20T20:00:00\",\"2022-11-20T21:00:00\",\"2022-11-20T22:00:00\",\"2022-11-20T23:00:00\",\"2022-11-21T00:00:00\",\"2022-11-21T01:00:00\",\"2022-11-21T02:00:00\",\"2022-11-21T03:00:00\",\"2022-11-21T04:00:00\",\"2022-11-21T05:00:00\",\"2022-11-21T06:00:00\",\"2022-11-21T07:00:00\",\"2022-11-21T08:00:00\",\"2022-11-21T09:00:00\",\"2022-11-21T10:00:00\",\"2022-11-21T11:00:00\",\"2022-11-21T12:00:00\",\"2022-11-21T13:00:00\",\"2022-11-21T14:00:00\",\"2022-11-21T15:00:00\",\"2022-11-21T16:00:00\",\"2022-11-21T17:00:00\",\"2022-11-21T18:00:00\",\"2022-11-21T19:00:00\",\"2022-11-21T20:00:00\",\"2022-11-21T21:00:00\",\"2022-11-21T22:00:00\",\"2022-11-21T23:00:00\",\"2022-11-22T00:00:00\",\"2022-11-22T01:00:00\",\"2022-11-22T02:00:00\",\"2022-11-22T03:00:00\",\"2022-11-22T04:00:00\",\"2022-11-22T05:00:00\",\"2022-11-22T06:00:00\",\"2022-11-22T07:00:00\",\"2022-11-22T08:00:00\",\"2022-11-22T09:00:00\",\"2022-11-22T10:00:00\"],\"xaxis\":\"x\",\"y\":[0.13355,0.09460000000000002,0.0,0.34463333333333335,0.21286666666666668,0.0,0.4355,null,-0.12689999999999999,null,null,null,null,null,null,0.4404,null,null,null,null,null,null,0.0,0.0,null,null,null,0.6369,0.8555,null,null,null,null,null,null,null,null,null,null,null,null,null,null,0.0,null,null,null,0.8074,null,null,0.2023,null,null,null,0.0,null,null,null,null,null,null,null,null,null,null,null,null,0.4939,null,0.0,null,null,null,null,null,0.4215,0.4754,null,0.0,null,null,null,null,null,null,null,null,null,null,null,null,null,null,null,0.5106,null,null,null,null,0.0,null,null,null,null,null,null,null,null,null,null,null,null,null,null,null,null,null,null,null,null,null,null,null,null,null,null,null,null,null,null,null,null,null,null,null,null,null,null,null,null,null,0.0,null,null,null,null,null,null,null,null,null,null,0.6369,null,null,null,null,null,null,null,null,null,null,0.4588,null,null,0.3182,0.12605,null,null,null,null,0.4404,null,null,null,null,null,0.2732,null,null,null,null,null,null,null,null,0.4404,-0.2975,null,0.0,null,null,null,null,null,null,null,null,null,null,null,null,null,null,null,null,null,null,null,null,null,null,null,0.0,null,null,null,null,null,null,null,0.0,null,null,null,null,null,null,null,null,null,null,null,null,0.0,-0.4215,null,null,0.0,null,null,0.0,-0.4404,null,null,null,null,null,null,null,null,null,null,null,null,null,null,null,null,null,0.0951,null,null,null,null,null,null,null,null,null,null,null,null,null,null,null,null,null,null,null,null,null,null,null,0.0,null,null,null,0.0,null,null,null,null,null,null,null,null,null,null,null,null,null,null,null,null,null,null,null,null,null,0.0,null,0.0,null,null,null,null,null,null,null,null,null,null,null,null,null,null,0.4253,null,null,0.0,0.3818,null,null,null,0.0,null,null,null,null,null,null,0.4404,null,null,null,null,null,null,null,null,null,null,null,null,null,null,0.6369,null,null,0.6369,null,null,null,0.6369,null,null,null,null,null,null,null,null,null,null,null,null,null,null,0.2023,null,-0.6124,null,null,null,0.0,null,null,null,null,null,null,null,null,null,null,null,null,null,null,null,null,null,null,null,null,null,null,0.7269,null,null,null,null,null,null,null,null,null,null,null,null,null,null,null,null,null,null,null,null,null,null,null,null,null,null,null,null,null,null,null,null,null,null,null,null,null,null,null,null,null,null,0.6249,null,null,null,null,null,null,null,null,null,null,null,null,null,null,null,null,null,null,null,null,null,null,null,null,null,0.2023,0.0,null,null,null,null,null,null,null,0.0,null,null,null,null,null,null,null,null,null,null,null,null,null,null,null,0.0,0.0,null,null,null,null,null,null,null,null,null,null,null,null,null,null,null,null,null,null,null,null,0.0,null,-0.3818,null,null,null,null,null,null,null,null,null,0.0,null,null,null,null,null,null,null,null,null,null,null,null,0.46775,null,0.0,null,-0.3612,null,null,null,null,null,null,null,null,null,null,null,null,null,null,null,null,null,null,null,null,0.0,0.3818,0.0,null,null,null,null,null,null,null,-0.0258,null,null,null,null,null,null,null,null,null,null,null,null,null,null,null,null,null,null,null,null,null,null,null,null,null,null,null,null,null,null,null,null,null,null,null,0.34,null,-0.4404,null,-0.2023,null,null,null,null,null,null,null,null,null,null,null,null,null,null,null,null,null,0.0,null,null,null,0.0,null,null,null,null,null,null,null,null,null,0.6249,null,null,null,null,null,null,null,null,null,null,null,null,null,-0.4215,-0.2553],\"yaxis\":\"y\",\"type\":\"bar\"}],                        {\"template\":{\"data\":{\"histogram2dcontour\":[{\"type\":\"histogram2dcontour\",\"colorbar\":{\"outlinewidth\":0,\"ticks\":\"\"},\"colorscale\":[[0.0,\"#0d0887\"],[0.1111111111111111,\"#46039f\"],[0.2222222222222222,\"#7201a8\"],[0.3333333333333333,\"#9c179e\"],[0.4444444444444444,\"#bd3786\"],[0.5555555555555556,\"#d8576b\"],[0.6666666666666666,\"#ed7953\"],[0.7777777777777778,\"#fb9f3a\"],[0.8888888888888888,\"#fdca26\"],[1.0,\"#f0f921\"]]}],\"choropleth\":[{\"type\":\"choropleth\",\"colorbar\":{\"outlinewidth\":0,\"ticks\":\"\"}}],\"histogram2d\":[{\"type\":\"histogram2d\",\"colorbar\":{\"outlinewidth\":0,\"ticks\":\"\"},\"colorscale\":[[0.0,\"#0d0887\"],[0.1111111111111111,\"#46039f\"],[0.2222222222222222,\"#7201a8\"],[0.3333333333333333,\"#9c179e\"],[0.4444444444444444,\"#bd3786\"],[0.5555555555555556,\"#d8576b\"],[0.6666666666666666,\"#ed7953\"],[0.7777777777777778,\"#fb9f3a\"],[0.8888888888888888,\"#fdca26\"],[1.0,\"#f0f921\"]]}],\"heatmap\":[{\"type\":\"heatmap\",\"colorbar\":{\"outlinewidth\":0,\"ticks\":\"\"},\"colorscale\":[[0.0,\"#0d0887\"],[0.1111111111111111,\"#46039f\"],[0.2222222222222222,\"#7201a8\"],[0.3333333333333333,\"#9c179e\"],[0.4444444444444444,\"#bd3786\"],[0.5555555555555556,\"#d8576b\"],[0.6666666666666666,\"#ed7953\"],[0.7777777777777778,\"#fb9f3a\"],[0.8888888888888888,\"#fdca26\"],[1.0,\"#f0f921\"]]}],\"heatmapgl\":[{\"type\":\"heatmapgl\",\"colorbar\":{\"outlinewidth\":0,\"ticks\":\"\"},\"colorscale\":[[0.0,\"#0d0887\"],[0.1111111111111111,\"#46039f\"],[0.2222222222222222,\"#7201a8\"],[0.3333333333333333,\"#9c179e\"],[0.4444444444444444,\"#bd3786\"],[0.5555555555555556,\"#d8576b\"],[0.6666666666666666,\"#ed7953\"],[0.7777777777777778,\"#fb9f3a\"],[0.8888888888888888,\"#fdca26\"],[1.0,\"#f0f921\"]]}],\"contourcarpet\":[{\"type\":\"contourcarpet\",\"colorbar\":{\"outlinewidth\":0,\"ticks\":\"\"}}],\"contour\":[{\"type\":\"contour\",\"colorbar\":{\"outlinewidth\":0,\"ticks\":\"\"},\"colorscale\":[[0.0,\"#0d0887\"],[0.1111111111111111,\"#46039f\"],[0.2222222222222222,\"#7201a8\"],[0.3333333333333333,\"#9c179e\"],[0.4444444444444444,\"#bd3786\"],[0.5555555555555556,\"#d8576b\"],[0.6666666666666666,\"#ed7953\"],[0.7777777777777778,\"#fb9f3a\"],[0.8888888888888888,\"#fdca26\"],[1.0,\"#f0f921\"]]}],\"surface\":[{\"type\":\"surface\",\"colorbar\":{\"outlinewidth\":0,\"ticks\":\"\"},\"colorscale\":[[0.0,\"#0d0887\"],[0.1111111111111111,\"#46039f\"],[0.2222222222222222,\"#7201a8\"],[0.3333333333333333,\"#9c179e\"],[0.4444444444444444,\"#bd3786\"],[0.5555555555555556,\"#d8576b\"],[0.6666666666666666,\"#ed7953\"],[0.7777777777777778,\"#fb9f3a\"],[0.8888888888888888,\"#fdca26\"],[1.0,\"#f0f921\"]]}],\"mesh3d\":[{\"type\":\"mesh3d\",\"colorbar\":{\"outlinewidth\":0,\"ticks\":\"\"}}],\"scatter\":[{\"fillpattern\":{\"fillmode\":\"overlay\",\"size\":10,\"solidity\":0.2},\"type\":\"scatter\"}],\"parcoords\":[{\"type\":\"parcoords\",\"line\":{\"colorbar\":{\"outlinewidth\":0,\"ticks\":\"\"}}}],\"scatterpolargl\":[{\"type\":\"scatterpolargl\",\"marker\":{\"colorbar\":{\"outlinewidth\":0,\"ticks\":\"\"}}}],\"bar\":[{\"error_x\":{\"color\":\"#2a3f5f\"},\"error_y\":{\"color\":\"#2a3f5f\"},\"marker\":{\"line\":{\"color\":\"#E5ECF6\",\"width\":0.5},\"pattern\":{\"fillmode\":\"overlay\",\"size\":10,\"solidity\":0.2}},\"type\":\"bar\"}],\"scattergeo\":[{\"type\":\"scattergeo\",\"marker\":{\"colorbar\":{\"outlinewidth\":0,\"ticks\":\"\"}}}],\"scatterpolar\":[{\"type\":\"scatterpolar\",\"marker\":{\"colorbar\":{\"outlinewidth\":0,\"ticks\":\"\"}}}],\"histogram\":[{\"marker\":{\"pattern\":{\"fillmode\":\"overlay\",\"size\":10,\"solidity\":0.2}},\"type\":\"histogram\"}],\"scattergl\":[{\"type\":\"scattergl\",\"marker\":{\"colorbar\":{\"outlinewidth\":0,\"ticks\":\"\"}}}],\"scatter3d\":[{\"type\":\"scatter3d\",\"line\":{\"colorbar\":{\"outlinewidth\":0,\"ticks\":\"\"}},\"marker\":{\"colorbar\":{\"outlinewidth\":0,\"ticks\":\"\"}}}],\"scattermapbox\":[{\"type\":\"scattermapbox\",\"marker\":{\"colorbar\":{\"outlinewidth\":0,\"ticks\":\"\"}}}],\"scatterternary\":[{\"type\":\"scatterternary\",\"marker\":{\"colorbar\":{\"outlinewidth\":0,\"ticks\":\"\"}}}],\"scattercarpet\":[{\"type\":\"scattercarpet\",\"marker\":{\"colorbar\":{\"outlinewidth\":0,\"ticks\":\"\"}}}],\"carpet\":[{\"aaxis\":{\"endlinecolor\":\"#2a3f5f\",\"gridcolor\":\"white\",\"linecolor\":\"white\",\"minorgridcolor\":\"white\",\"startlinecolor\":\"#2a3f5f\"},\"baxis\":{\"endlinecolor\":\"#2a3f5f\",\"gridcolor\":\"white\",\"linecolor\":\"white\",\"minorgridcolor\":\"white\",\"startlinecolor\":\"#2a3f5f\"},\"type\":\"carpet\"}],\"table\":[{\"cells\":{\"fill\":{\"color\":\"#EBF0F8\"},\"line\":{\"color\":\"white\"}},\"header\":{\"fill\":{\"color\":\"#C8D4E3\"},\"line\":{\"color\":\"white\"}},\"type\":\"table\"}],\"barpolar\":[{\"marker\":{\"line\":{\"color\":\"#E5ECF6\",\"width\":0.5},\"pattern\":{\"fillmode\":\"overlay\",\"size\":10,\"solidity\":0.2}},\"type\":\"barpolar\"}],\"pie\":[{\"automargin\":true,\"type\":\"pie\"}]},\"layout\":{\"autotypenumbers\":\"strict\",\"colorway\":[\"#636efa\",\"#EF553B\",\"#00cc96\",\"#ab63fa\",\"#FFA15A\",\"#19d3f3\",\"#FF6692\",\"#B6E880\",\"#FF97FF\",\"#FECB52\"],\"font\":{\"color\":\"#2a3f5f\"},\"hovermode\":\"closest\",\"hoverlabel\":{\"align\":\"left\"},\"paper_bgcolor\":\"white\",\"plot_bgcolor\":\"#E5ECF6\",\"polar\":{\"bgcolor\":\"#E5ECF6\",\"angularaxis\":{\"gridcolor\":\"white\",\"linecolor\":\"white\",\"ticks\":\"\"},\"radialaxis\":{\"gridcolor\":\"white\",\"linecolor\":\"white\",\"ticks\":\"\"}},\"ternary\":{\"bgcolor\":\"#E5ECF6\",\"aaxis\":{\"gridcolor\":\"white\",\"linecolor\":\"white\",\"ticks\":\"\"},\"baxis\":{\"gridcolor\":\"white\",\"linecolor\":\"white\",\"ticks\":\"\"},\"caxis\":{\"gridcolor\":\"white\",\"linecolor\":\"white\",\"ticks\":\"\"}},\"coloraxis\":{\"colorbar\":{\"outlinewidth\":0,\"ticks\":\"\"}},\"colorscale\":{\"sequential\":[[0.0,\"#0d0887\"],[0.1111111111111111,\"#46039f\"],[0.2222222222222222,\"#7201a8\"],[0.3333333333333333,\"#9c179e\"],[0.4444444444444444,\"#bd3786\"],[0.5555555555555556,\"#d8576b\"],[0.6666666666666666,\"#ed7953\"],[0.7777777777777778,\"#fb9f3a\"],[0.8888888888888888,\"#fdca26\"],[1.0,\"#f0f921\"]],\"sequentialminus\":[[0.0,\"#0d0887\"],[0.1111111111111111,\"#46039f\"],[0.2222222222222222,\"#7201a8\"],[0.3333333333333333,\"#9c179e\"],[0.4444444444444444,\"#bd3786\"],[0.5555555555555556,\"#d8576b\"],[0.6666666666666666,\"#ed7953\"],[0.7777777777777778,\"#fb9f3a\"],[0.8888888888888888,\"#fdca26\"],[1.0,\"#f0f921\"]],\"diverging\":[[0,\"#8e0152\"],[0.1,\"#c51b7d\"],[0.2,\"#de77ae\"],[0.3,\"#f1b6da\"],[0.4,\"#fde0ef\"],[0.5,\"#f7f7f7\"],[0.6,\"#e6f5d0\"],[0.7,\"#b8e186\"],[0.8,\"#7fbc41\"],[0.9,\"#4d9221\"],[1,\"#276419\"]]},\"xaxis\":{\"gridcolor\":\"white\",\"linecolor\":\"white\",\"ticks\":\"\",\"title\":{\"standoff\":15},\"zerolinecolor\":\"white\",\"automargin\":true,\"zerolinewidth\":2},\"yaxis\":{\"gridcolor\":\"white\",\"linecolor\":\"white\",\"ticks\":\"\",\"title\":{\"standoff\":15},\"zerolinecolor\":\"white\",\"automargin\":true,\"zerolinewidth\":2},\"scene\":{\"xaxis\":{\"backgroundcolor\":\"#E5ECF6\",\"gridcolor\":\"white\",\"linecolor\":\"white\",\"showbackground\":true,\"ticks\":\"\",\"zerolinecolor\":\"white\",\"gridwidth\":2},\"yaxis\":{\"backgroundcolor\":\"#E5ECF6\",\"gridcolor\":\"white\",\"linecolor\":\"white\",\"showbackground\":true,\"ticks\":\"\",\"zerolinecolor\":\"white\",\"gridwidth\":2},\"zaxis\":{\"backgroundcolor\":\"#E5ECF6\",\"gridcolor\":\"white\",\"linecolor\":\"white\",\"showbackground\":true,\"ticks\":\"\",\"zerolinecolor\":\"white\",\"gridwidth\":2}},\"shapedefaults\":{\"line\":{\"color\":\"#2a3f5f\"}},\"annotationdefaults\":{\"arrowcolor\":\"#2a3f5f\",\"arrowhead\":0,\"arrowwidth\":1},\"geo\":{\"bgcolor\":\"white\",\"landcolor\":\"#E5ECF6\",\"subunitcolor\":\"white\",\"showland\":true,\"showlakes\":true,\"lakecolor\":\"white\"},\"title\":{\"x\":0.05},\"mapbox\":{\"style\":\"light\"}}},\"xaxis\":{\"anchor\":\"y\",\"domain\":[0.0,1.0],\"title\":{\"text\":\"datetime\"}},\"yaxis\":{\"anchor\":\"x\",\"domain\":[0.0,1.0],\"title\":{\"text\":\"sentiment_score\"}},\"legend\":{\"tracegroupgap\":0},\"title\":{\"text\":\"KO Hourly Sentiment Scores\"},\"barmode\":\"relative\"},                        {\"responsive\": true}                    ).then(function(){\n",
       "                            \n",
       "var gd = document.getElementById('977bb3e0-e39d-407c-81a1-15893b1369f4');\n",
       "var x = new MutationObserver(function (mutations, observer) {{\n",
       "        var display = window.getComputedStyle(gd).display;\n",
       "        if (!display || display === 'none') {{\n",
       "            console.log([gd, 'removed!']);\n",
       "            Plotly.purge(gd);\n",
       "            observer.disconnect();\n",
       "        }}\n",
       "}});\n",
       "\n",
       "// Listen for the removal of the full notebook cells\n",
       "var notebookContainer = gd.closest('#notebook-container');\n",
       "if (notebookContainer) {{\n",
       "    x.observe(notebookContainer, {childList: true});\n",
       "}}\n",
       "\n",
       "// Listen for the clearing of the current output cell\n",
       "var outputEl = gd.closest('.output');\n",
       "if (outputEl) {{\n",
       "    x.observe(outputEl, {childList: true});\n",
       "}}\n",
       "\n",
       "                        })                };                });            </script>        </div>"
      ]
     },
     "metadata": {},
     "output_type": "display_data"
    },
    {
     "data": {
      "application/vnd.plotly.v1+json": {
       "config": {
        "plotlyServerURL": "https://plot.ly"
       },
       "data": [
        {
         "alignmentgroup": "True",
         "hovertemplate": "datetime=%{x}<br>sentiment_score=%{y}<extra></extra>",
         "legendgroup": "",
         "marker": {
          "color": "#636efa",
          "pattern": {
           "shape": ""
          }
         },
         "name": "",
         "offsetgroup": "",
         "orientation": "v",
         "showlegend": false,
         "textposition": "auto",
         "type": "bar",
         "x": [
          "2022-10-25T00:00:00",
          "2022-10-26T00:00:00",
          "2022-10-27T00:00:00",
          "2022-10-28T00:00:00",
          "2022-10-29T00:00:00",
          "2022-10-30T00:00:00",
          "2022-10-31T00:00:00",
          "2022-11-01T00:00:00",
          "2022-11-02T00:00:00",
          "2022-11-03T00:00:00",
          "2022-11-04T00:00:00",
          "2022-11-05T00:00:00",
          "2022-11-06T00:00:00",
          "2022-11-07T00:00:00",
          "2022-11-08T00:00:00",
          "2022-11-09T00:00:00",
          "2022-11-10T00:00:00",
          "2022-11-11T00:00:00",
          "2022-11-12T00:00:00",
          "2022-11-13T00:00:00",
          "2022-11-14T00:00:00",
          "2022-11-15T00:00:00",
          "2022-11-16T00:00:00",
          "2022-11-17T00:00:00",
          "2022-11-18T00:00:00",
          "2022-11-19T00:00:00",
          "2022-11-20T00:00:00",
          "2022-11-21T00:00:00",
          "2022-11-22T00:00:00"
         ],
         "xaxis": "x",
         "y": [
          0.155385,
          0.3221333333333333,
          0.20194,
          0.27816,
          0.2553,
          null,
          0.31845,
          0.29045,
          0.04763333333333334,
          0,
          -0.17238,
          0.0951,
          0,
          0,
          0.2788,
          0.6369,
          -0.13670000000000002,
          0.7269,
          null,
          0.6249,
          0.06743333333333333,
          0,
          -0.12726666666666667,
          0.143575,
          0.089,
          null,
          -0.10089999999999999,
          0.2083,
          -0.31070000000000003
         ],
         "yaxis": "y"
        }
       ],
       "layout": {
        "autosize": true,
        "barmode": "relative",
        "legend": {
         "tracegroupgap": 0
        },
        "template": {
         "data": {
          "bar": [
           {
            "error_x": {
             "color": "#2a3f5f"
            },
            "error_y": {
             "color": "#2a3f5f"
            },
            "marker": {
             "line": {
              "color": "#E5ECF6",
              "width": 0.5
             },
             "pattern": {
              "fillmode": "overlay",
              "size": 10,
              "solidity": 0.2
             }
            },
            "type": "bar"
           }
          ],
          "barpolar": [
           {
            "marker": {
             "line": {
              "color": "#E5ECF6",
              "width": 0.5
             },
             "pattern": {
              "fillmode": "overlay",
              "size": 10,
              "solidity": 0.2
             }
            },
            "type": "barpolar"
           }
          ],
          "carpet": [
           {
            "aaxis": {
             "endlinecolor": "#2a3f5f",
             "gridcolor": "white",
             "linecolor": "white",
             "minorgridcolor": "white",
             "startlinecolor": "#2a3f5f"
            },
            "baxis": {
             "endlinecolor": "#2a3f5f",
             "gridcolor": "white",
             "linecolor": "white",
             "minorgridcolor": "white",
             "startlinecolor": "#2a3f5f"
            },
            "type": "carpet"
           }
          ],
          "choropleth": [
           {
            "colorbar": {
             "outlinewidth": 0,
             "ticks": ""
            },
            "type": "choropleth"
           }
          ],
          "contour": [
           {
            "colorbar": {
             "outlinewidth": 0,
             "ticks": ""
            },
            "colorscale": [
             [
              0,
              "#0d0887"
             ],
             [
              0.1111111111111111,
              "#46039f"
             ],
             [
              0.2222222222222222,
              "#7201a8"
             ],
             [
              0.3333333333333333,
              "#9c179e"
             ],
             [
              0.4444444444444444,
              "#bd3786"
             ],
             [
              0.5555555555555556,
              "#d8576b"
             ],
             [
              0.6666666666666666,
              "#ed7953"
             ],
             [
              0.7777777777777778,
              "#fb9f3a"
             ],
             [
              0.8888888888888888,
              "#fdca26"
             ],
             [
              1,
              "#f0f921"
             ]
            ],
            "type": "contour"
           }
          ],
          "contourcarpet": [
           {
            "colorbar": {
             "outlinewidth": 0,
             "ticks": ""
            },
            "type": "contourcarpet"
           }
          ],
          "heatmap": [
           {
            "colorbar": {
             "outlinewidth": 0,
             "ticks": ""
            },
            "colorscale": [
             [
              0,
              "#0d0887"
             ],
             [
              0.1111111111111111,
              "#46039f"
             ],
             [
              0.2222222222222222,
              "#7201a8"
             ],
             [
              0.3333333333333333,
              "#9c179e"
             ],
             [
              0.4444444444444444,
              "#bd3786"
             ],
             [
              0.5555555555555556,
              "#d8576b"
             ],
             [
              0.6666666666666666,
              "#ed7953"
             ],
             [
              0.7777777777777778,
              "#fb9f3a"
             ],
             [
              0.8888888888888888,
              "#fdca26"
             ],
             [
              1,
              "#f0f921"
             ]
            ],
            "type": "heatmap"
           }
          ],
          "heatmapgl": [
           {
            "colorbar": {
             "outlinewidth": 0,
             "ticks": ""
            },
            "colorscale": [
             [
              0,
              "#0d0887"
             ],
             [
              0.1111111111111111,
              "#46039f"
             ],
             [
              0.2222222222222222,
              "#7201a8"
             ],
             [
              0.3333333333333333,
              "#9c179e"
             ],
             [
              0.4444444444444444,
              "#bd3786"
             ],
             [
              0.5555555555555556,
              "#d8576b"
             ],
             [
              0.6666666666666666,
              "#ed7953"
             ],
             [
              0.7777777777777778,
              "#fb9f3a"
             ],
             [
              0.8888888888888888,
              "#fdca26"
             ],
             [
              1,
              "#f0f921"
             ]
            ],
            "type": "heatmapgl"
           }
          ],
          "histogram": [
           {
            "marker": {
             "pattern": {
              "fillmode": "overlay",
              "size": 10,
              "solidity": 0.2
             }
            },
            "type": "histogram"
           }
          ],
          "histogram2d": [
           {
            "colorbar": {
             "outlinewidth": 0,
             "ticks": ""
            },
            "colorscale": [
             [
              0,
              "#0d0887"
             ],
             [
              0.1111111111111111,
              "#46039f"
             ],
             [
              0.2222222222222222,
              "#7201a8"
             ],
             [
              0.3333333333333333,
              "#9c179e"
             ],
             [
              0.4444444444444444,
              "#bd3786"
             ],
             [
              0.5555555555555556,
              "#d8576b"
             ],
             [
              0.6666666666666666,
              "#ed7953"
             ],
             [
              0.7777777777777778,
              "#fb9f3a"
             ],
             [
              0.8888888888888888,
              "#fdca26"
             ],
             [
              1,
              "#f0f921"
             ]
            ],
            "type": "histogram2d"
           }
          ],
          "histogram2dcontour": [
           {
            "colorbar": {
             "outlinewidth": 0,
             "ticks": ""
            },
            "colorscale": [
             [
              0,
              "#0d0887"
             ],
             [
              0.1111111111111111,
              "#46039f"
             ],
             [
              0.2222222222222222,
              "#7201a8"
             ],
             [
              0.3333333333333333,
              "#9c179e"
             ],
             [
              0.4444444444444444,
              "#bd3786"
             ],
             [
              0.5555555555555556,
              "#d8576b"
             ],
             [
              0.6666666666666666,
              "#ed7953"
             ],
             [
              0.7777777777777778,
              "#fb9f3a"
             ],
             [
              0.8888888888888888,
              "#fdca26"
             ],
             [
              1,
              "#f0f921"
             ]
            ],
            "type": "histogram2dcontour"
           }
          ],
          "mesh3d": [
           {
            "colorbar": {
             "outlinewidth": 0,
             "ticks": ""
            },
            "type": "mesh3d"
           }
          ],
          "parcoords": [
           {
            "line": {
             "colorbar": {
              "outlinewidth": 0,
              "ticks": ""
             }
            },
            "type": "parcoords"
           }
          ],
          "pie": [
           {
            "automargin": true,
            "type": "pie"
           }
          ],
          "scatter": [
           {
            "fillpattern": {
             "fillmode": "overlay",
             "size": 10,
             "solidity": 0.2
            },
            "type": "scatter"
           }
          ],
          "scatter3d": [
           {
            "line": {
             "colorbar": {
              "outlinewidth": 0,
              "ticks": ""
             }
            },
            "marker": {
             "colorbar": {
              "outlinewidth": 0,
              "ticks": ""
             }
            },
            "type": "scatter3d"
           }
          ],
          "scattercarpet": [
           {
            "marker": {
             "colorbar": {
              "outlinewidth": 0,
              "ticks": ""
             }
            },
            "type": "scattercarpet"
           }
          ],
          "scattergeo": [
           {
            "marker": {
             "colorbar": {
              "outlinewidth": 0,
              "ticks": ""
             }
            },
            "type": "scattergeo"
           }
          ],
          "scattergl": [
           {
            "marker": {
             "colorbar": {
              "outlinewidth": 0,
              "ticks": ""
             }
            },
            "type": "scattergl"
           }
          ],
          "scattermapbox": [
           {
            "marker": {
             "colorbar": {
              "outlinewidth": 0,
              "ticks": ""
             }
            },
            "type": "scattermapbox"
           }
          ],
          "scatterpolar": [
           {
            "marker": {
             "colorbar": {
              "outlinewidth": 0,
              "ticks": ""
             }
            },
            "type": "scatterpolar"
           }
          ],
          "scatterpolargl": [
           {
            "marker": {
             "colorbar": {
              "outlinewidth": 0,
              "ticks": ""
             }
            },
            "type": "scatterpolargl"
           }
          ],
          "scatterternary": [
           {
            "marker": {
             "colorbar": {
              "outlinewidth": 0,
              "ticks": ""
             }
            },
            "type": "scatterternary"
           }
          ],
          "surface": [
           {
            "colorbar": {
             "outlinewidth": 0,
             "ticks": ""
            },
            "colorscale": [
             [
              0,
              "#0d0887"
             ],
             [
              0.1111111111111111,
              "#46039f"
             ],
             [
              0.2222222222222222,
              "#7201a8"
             ],
             [
              0.3333333333333333,
              "#9c179e"
             ],
             [
              0.4444444444444444,
              "#bd3786"
             ],
             [
              0.5555555555555556,
              "#d8576b"
             ],
             [
              0.6666666666666666,
              "#ed7953"
             ],
             [
              0.7777777777777778,
              "#fb9f3a"
             ],
             [
              0.8888888888888888,
              "#fdca26"
             ],
             [
              1,
              "#f0f921"
             ]
            ],
            "type": "surface"
           }
          ],
          "table": [
           {
            "cells": {
             "fill": {
              "color": "#EBF0F8"
             },
             "line": {
              "color": "white"
             }
            },
            "header": {
             "fill": {
              "color": "#C8D4E3"
             },
             "line": {
              "color": "white"
             }
            },
            "type": "table"
           }
          ]
         },
         "layout": {
          "annotationdefaults": {
           "arrowcolor": "#2a3f5f",
           "arrowhead": 0,
           "arrowwidth": 1
          },
          "autotypenumbers": "strict",
          "coloraxis": {
           "colorbar": {
            "outlinewidth": 0,
            "ticks": ""
           }
          },
          "colorscale": {
           "diverging": [
            [
             0,
             "#8e0152"
            ],
            [
             0.1,
             "#c51b7d"
            ],
            [
             0.2,
             "#de77ae"
            ],
            [
             0.3,
             "#f1b6da"
            ],
            [
             0.4,
             "#fde0ef"
            ],
            [
             0.5,
             "#f7f7f7"
            ],
            [
             0.6,
             "#e6f5d0"
            ],
            [
             0.7,
             "#b8e186"
            ],
            [
             0.8,
             "#7fbc41"
            ],
            [
             0.9,
             "#4d9221"
            ],
            [
             1,
             "#276419"
            ]
           ],
           "sequential": [
            [
             0,
             "#0d0887"
            ],
            [
             0.1111111111111111,
             "#46039f"
            ],
            [
             0.2222222222222222,
             "#7201a8"
            ],
            [
             0.3333333333333333,
             "#9c179e"
            ],
            [
             0.4444444444444444,
             "#bd3786"
            ],
            [
             0.5555555555555556,
             "#d8576b"
            ],
            [
             0.6666666666666666,
             "#ed7953"
            ],
            [
             0.7777777777777778,
             "#fb9f3a"
            ],
            [
             0.8888888888888888,
             "#fdca26"
            ],
            [
             1,
             "#f0f921"
            ]
           ],
           "sequentialminus": [
            [
             0,
             "#0d0887"
            ],
            [
             0.1111111111111111,
             "#46039f"
            ],
            [
             0.2222222222222222,
             "#7201a8"
            ],
            [
             0.3333333333333333,
             "#9c179e"
            ],
            [
             0.4444444444444444,
             "#bd3786"
            ],
            [
             0.5555555555555556,
             "#d8576b"
            ],
            [
             0.6666666666666666,
             "#ed7953"
            ],
            [
             0.7777777777777778,
             "#fb9f3a"
            ],
            [
             0.8888888888888888,
             "#fdca26"
            ],
            [
             1,
             "#f0f921"
            ]
           ]
          },
          "colorway": [
           "#636efa",
           "#EF553B",
           "#00cc96",
           "#ab63fa",
           "#FFA15A",
           "#19d3f3",
           "#FF6692",
           "#B6E880",
           "#FF97FF",
           "#FECB52"
          ],
          "font": {
           "color": "#2a3f5f"
          },
          "geo": {
           "bgcolor": "white",
           "lakecolor": "white",
           "landcolor": "#E5ECF6",
           "showlakes": true,
           "showland": true,
           "subunitcolor": "white"
          },
          "hoverlabel": {
           "align": "left"
          },
          "hovermode": "closest",
          "mapbox": {
           "style": "light"
          },
          "paper_bgcolor": "white",
          "plot_bgcolor": "#E5ECF6",
          "polar": {
           "angularaxis": {
            "gridcolor": "white",
            "linecolor": "white",
            "ticks": ""
           },
           "bgcolor": "#E5ECF6",
           "radialaxis": {
            "gridcolor": "white",
            "linecolor": "white",
            "ticks": ""
           }
          },
          "scene": {
           "xaxis": {
            "backgroundcolor": "#E5ECF6",
            "gridcolor": "white",
            "gridwidth": 2,
            "linecolor": "white",
            "showbackground": true,
            "ticks": "",
            "zerolinecolor": "white"
           },
           "yaxis": {
            "backgroundcolor": "#E5ECF6",
            "gridcolor": "white",
            "gridwidth": 2,
            "linecolor": "white",
            "showbackground": true,
            "ticks": "",
            "zerolinecolor": "white"
           },
           "zaxis": {
            "backgroundcolor": "#E5ECF6",
            "gridcolor": "white",
            "gridwidth": 2,
            "linecolor": "white",
            "showbackground": true,
            "ticks": "",
            "zerolinecolor": "white"
           }
          },
          "shapedefaults": {
           "line": {
            "color": "#2a3f5f"
           }
          },
          "ternary": {
           "aaxis": {
            "gridcolor": "white",
            "linecolor": "white",
            "ticks": ""
           },
           "baxis": {
            "gridcolor": "white",
            "linecolor": "white",
            "ticks": ""
           },
           "bgcolor": "#E5ECF6",
           "caxis": {
            "gridcolor": "white",
            "linecolor": "white",
            "ticks": ""
           }
          },
          "title": {
           "x": 0.05
          },
          "xaxis": {
           "automargin": true,
           "gridcolor": "white",
           "linecolor": "white",
           "ticks": "",
           "title": {
            "standoff": 15
           },
           "zerolinecolor": "white",
           "zerolinewidth": 2
          },
          "yaxis": {
           "automargin": true,
           "gridcolor": "white",
           "linecolor": "white",
           "ticks": "",
           "title": {
            "standoff": 15
           },
           "zerolinecolor": "white",
           "zerolinewidth": 2
          }
         }
        },
        "title": {
         "text": "KO Daily Sentiment Scores"
        },
        "xaxis": {
         "anchor": "y",
         "autorange": true,
         "domain": [
          0,
          1
         ],
         "range": [
          "2022-10-24 12:00",
          "2022-11-22 12:00"
         ],
         "title": {
          "text": "datetime"
         },
         "type": "date"
        },
        "yaxis": {
         "anchor": "x",
         "autorange": true,
         "domain": [
          0,
          1
         ],
         "range": [
          -0.3683444444444445,
          0.7845444444444445
         ],
         "title": {
          "text": "sentiment_score"
         },
         "type": "linear"
        }
       }
      },
      "image/png": "[encoded data removed]",
      "text/html": [
       "<div>                            <div id=\"0bc74719-1458-4dd5-b0ba-c6ef8e84db5d\" class=\"plotly-graph-div\" style=\"height:525px; width:100%;\"></div>            <script type=\"text/javascript\">                require([\"plotly\"], function(Plotly) {                    window.PLOTLYENV=window.PLOTLYENV || {};                                    if (document.getElementById(\"0bc74719-1458-4dd5-b0ba-c6ef8e84db5d\")) {                    Plotly.newPlot(                        \"0bc74719-1458-4dd5-b0ba-c6ef8e84db5d\",                        [{\"alignmentgroup\":\"True\",\"hovertemplate\":\"datetime=%{x}<br>sentiment_score=%{y}<extra></extra>\",\"legendgroup\":\"\",\"marker\":{\"color\":\"#636efa\",\"pattern\":{\"shape\":\"\"}},\"name\":\"\",\"offsetgroup\":\"\",\"orientation\":\"v\",\"showlegend\":false,\"textposition\":\"auto\",\"x\":[\"2022-10-25T00:00:00\",\"2022-10-26T00:00:00\",\"2022-10-27T00:00:00\",\"2022-10-28T00:00:00\",\"2022-10-29T00:00:00\",\"2022-10-30T00:00:00\",\"2022-10-31T00:00:00\",\"2022-11-01T00:00:00\",\"2022-11-02T00:00:00\",\"2022-11-03T00:00:00\",\"2022-11-04T00:00:00\",\"2022-11-05T00:00:00\",\"2022-11-06T00:00:00\",\"2022-11-07T00:00:00\",\"2022-11-08T00:00:00\",\"2022-11-09T00:00:00\",\"2022-11-10T00:00:00\",\"2022-11-11T00:00:00\",\"2022-11-12T00:00:00\",\"2022-11-13T00:00:00\",\"2022-11-14T00:00:00\",\"2022-11-15T00:00:00\",\"2022-11-16T00:00:00\",\"2022-11-17T00:00:00\",\"2022-11-18T00:00:00\",\"2022-11-19T00:00:00\",\"2022-11-20T00:00:00\",\"2022-11-21T00:00:00\",\"2022-11-22T00:00:00\"],\"xaxis\":\"x\",\"y\":[0.155385,0.3221333333333333,0.20194,0.27816,0.2553,null,0.31845,0.29045,0.04763333333333334,0.0,-0.17238,0.0951,0.0,0.0,0.2788,0.6369,-0.13670000000000002,0.7269,null,0.6249,0.06743333333333333,0.0,-0.12726666666666667,0.143575,0.089,null,-0.10089999999999999,0.2083,-0.31070000000000003],\"yaxis\":\"y\",\"type\":\"bar\"}],                        {\"template\":{\"data\":{\"histogram2dcontour\":[{\"type\":\"histogram2dcontour\",\"colorbar\":{\"outlinewidth\":0,\"ticks\":\"\"},\"colorscale\":[[0.0,\"#0d0887\"],[0.1111111111111111,\"#46039f\"],[0.2222222222222222,\"#7201a8\"],[0.3333333333333333,\"#9c179e\"],[0.4444444444444444,\"#bd3786\"],[0.5555555555555556,\"#d8576b\"],[0.6666666666666666,\"#ed7953\"],[0.7777777777777778,\"#fb9f3a\"],[0.8888888888888888,\"#fdca26\"],[1.0,\"#f0f921\"]]}],\"choropleth\":[{\"type\":\"choropleth\",\"colorbar\":{\"outlinewidth\":0,\"ticks\":\"\"}}],\"histogram2d\":[{\"type\":\"histogram2d\",\"colorbar\":{\"outlinewidth\":0,\"ticks\":\"\"},\"colorscale\":[[0.0,\"#0d0887\"],[0.1111111111111111,\"#46039f\"],[0.2222222222222222,\"#7201a8\"],[0.3333333333333333,\"#9c179e\"],[0.4444444444444444,\"#bd3786\"],[0.5555555555555556,\"#d8576b\"],[0.6666666666666666,\"#ed7953\"],[0.7777777777777778,\"#fb9f3a\"],[0.8888888888888888,\"#fdca26\"],[1.0,\"#f0f921\"]]}],\"heatmap\":[{\"type\":\"heatmap\",\"colorbar\":{\"outlinewidth\":0,\"ticks\":\"\"},\"colorscale\":[[0.0,\"#0d0887\"],[0.1111111111111111,\"#46039f\"],[0.2222222222222222,\"#7201a8\"],[0.3333333333333333,\"#9c179e\"],[0.4444444444444444,\"#bd3786\"],[0.5555555555555556,\"#d8576b\"],[0.6666666666666666,\"#ed7953\"],[0.7777777777777778,\"#fb9f3a\"],[0.8888888888888888,\"#fdca26\"],[1.0,\"#f0f921\"]]}],\"heatmapgl\":[{\"type\":\"heatmapgl\",\"colorbar\":{\"outlinewidth\":0,\"ticks\":\"\"},\"colorscale\":[[0.0,\"#0d0887\"],[0.1111111111111111,\"#46039f\"],[0.2222222222222222,\"#7201a8\"],[0.3333333333333333,\"#9c179e\"],[0.4444444444444444,\"#bd3786\"],[0.5555555555555556,\"#d8576b\"],[0.6666666666666666,\"#ed7953\"],[0.7777777777777778,\"#fb9f3a\"],[0.8888888888888888,\"#fdca26\"],[1.0,\"#f0f921\"]]}],\"contourcarpet\":[{\"type\":\"contourcarpet\",\"colorbar\":{\"outlinewidth\":0,\"ticks\":\"\"}}],\"contour\":[{\"type\":\"contour\",\"colorbar\":{\"outlinewidth\":0,\"ticks\":\"\"},\"colorscale\":[[0.0,\"#0d0887\"],[0.1111111111111111,\"#46039f\"],[0.2222222222222222,\"#7201a8\"],[0.3333333333333333,\"#9c179e\"],[0.4444444444444444,\"#bd3786\"],[0.5555555555555556,\"#d8576b\"],[0.6666666666666666,\"#ed7953\"],[0.7777777777777778,\"#fb9f3a\"],[0.8888888888888888,\"#fdca26\"],[1.0,\"#f0f921\"]]}],\"surface\":[{\"type\":\"surface\",\"colorbar\":{\"outlinewidth\":0,\"ticks\":\"\"},\"colorscale\":[[0.0,\"#0d0887\"],[0.1111111111111111,\"#46039f\"],[0.2222222222222222,\"#7201a8\"],[0.3333333333333333,\"#9c179e\"],[0.4444444444444444,\"#bd3786\"],[0.5555555555555556,\"#d8576b\"],[0.6666666666666666,\"#ed7953\"],[0.7777777777777778,\"#fb9f3a\"],[0.8888888888888888,\"#fdca26\"],[1.0,\"#f0f921\"]]}],\"mesh3d\":[{\"type\":\"mesh3d\",\"colorbar\":{\"outlinewidth\":0,\"ticks\":\"\"}}],\"scatter\":[{\"fillpattern\":{\"fillmode\":\"overlay\",\"size\":10,\"solidity\":0.2},\"type\":\"scatter\"}],\"parcoords\":[{\"type\":\"parcoords\",\"line\":{\"colorbar\":{\"outlinewidth\":0,\"ticks\":\"\"}}}],\"scatterpolargl\":[{\"type\":\"scatterpolargl\",\"marker\":{\"colorbar\":{\"outlinewidth\":0,\"ticks\":\"\"}}}],\"bar\":[{\"error_x\":{\"color\":\"#2a3f5f\"},\"error_y\":{\"color\":\"#2a3f5f\"},\"marker\":{\"line\":{\"color\":\"#E5ECF6\",\"width\":0.5},\"pattern\":{\"fillmode\":\"overlay\",\"size\":10,\"solidity\":0.2}},\"type\":\"bar\"}],\"scattergeo\":[{\"type\":\"scattergeo\",\"marker\":{\"colorbar\":{\"outlinewidth\":0,\"ticks\":\"\"}}}],\"scatterpolar\":[{\"type\":\"scatterpolar\",\"marker\":{\"colorbar\":{\"outlinewidth\":0,\"ticks\":\"\"}}}],\"histogram\":[{\"marker\":{\"pattern\":{\"fillmode\":\"overlay\",\"size\":10,\"solidity\":0.2}},\"type\":\"histogram\"}],\"scattergl\":[{\"type\":\"scattergl\",\"marker\":{\"colorbar\":{\"outlinewidth\":0,\"ticks\":\"\"}}}],\"scatter3d\":[{\"type\":\"scatter3d\",\"line\":{\"colorbar\":{\"outlinewidth\":0,\"ticks\":\"\"}},\"marker\":{\"colorbar\":{\"outlinewidth\":0,\"ticks\":\"\"}}}],\"scattermapbox\":[{\"type\":\"scattermapbox\",\"marker\":{\"colorbar\":{\"outlinewidth\":0,\"ticks\":\"\"}}}],\"scatterternary\":[{\"type\":\"scatterternary\",\"marker\":{\"colorbar\":{\"outlinewidth\":0,\"ticks\":\"\"}}}],\"scattercarpet\":[{\"type\":\"scattercarpet\",\"marker\":{\"colorbar\":{\"outlinewidth\":0,\"ticks\":\"\"}}}],\"carpet\":[{\"aaxis\":{\"endlinecolor\":\"#2a3f5f\",\"gridcolor\":\"white\",\"linecolor\":\"white\",\"minorgridcolor\":\"white\",\"startlinecolor\":\"#2a3f5f\"},\"baxis\":{\"endlinecolor\":\"#2a3f5f\",\"gridcolor\":\"white\",\"linecolor\":\"white\",\"minorgridcolor\":\"white\",\"startlinecolor\":\"#2a3f5f\"},\"type\":\"carpet\"}],\"table\":[{\"cells\":{\"fill\":{\"color\":\"#EBF0F8\"},\"line\":{\"color\":\"white\"}},\"header\":{\"fill\":{\"color\":\"#C8D4E3\"},\"line\":{\"color\":\"white\"}},\"type\":\"table\"}],\"barpolar\":[{\"marker\":{\"line\":{\"color\":\"#E5ECF6\",\"width\":0.5},\"pattern\":{\"fillmode\":\"overlay\",\"size\":10,\"solidity\":0.2}},\"type\":\"barpolar\"}],\"pie\":[{\"automargin\":true,\"type\":\"pie\"}]},\"layout\":{\"autotypenumbers\":\"strict\",\"colorway\":[\"#636efa\",\"#EF553B\",\"#00cc96\",\"#ab63fa\",\"#FFA15A\",\"#19d3f3\",\"#FF6692\",\"#B6E880\",\"#FF97FF\",\"#FECB52\"],\"font\":{\"color\":\"#2a3f5f\"},\"hovermode\":\"closest\",\"hoverlabel\":{\"align\":\"left\"},\"paper_bgcolor\":\"white\",\"plot_bgcolor\":\"#E5ECF6\",\"polar\":{\"bgcolor\":\"#E5ECF6\",\"angularaxis\":{\"gridcolor\":\"white\",\"linecolor\":\"white\",\"ticks\":\"\"},\"radialaxis\":{\"gridcolor\":\"white\",\"linecolor\":\"white\",\"ticks\":\"\"}},\"ternary\":{\"bgcolor\":\"#E5ECF6\",\"aaxis\":{\"gridcolor\":\"white\",\"linecolor\":\"white\",\"ticks\":\"\"},\"baxis\":{\"gridcolor\":\"white\",\"linecolor\":\"white\",\"ticks\":\"\"},\"caxis\":{\"gridcolor\":\"white\",\"linecolor\":\"white\",\"ticks\":\"\"}},\"coloraxis\":{\"colorbar\":{\"outlinewidth\":0,\"ticks\":\"\"}},\"colorscale\":{\"sequential\":[[0.0,\"#0d0887\"],[0.1111111111111111,\"#46039f\"],[0.2222222222222222,\"#7201a8\"],[0.3333333333333333,\"#9c179e\"],[0.4444444444444444,\"#bd3786\"],[0.5555555555555556,\"#d8576b\"],[0.6666666666666666,\"#ed7953\"],[0.7777777777777778,\"#fb9f3a\"],[0.8888888888888888,\"#fdca26\"],[1.0,\"#f0f921\"]],\"sequentialminus\":[[0.0,\"#0d0887\"],[0.1111111111111111,\"#46039f\"],[0.2222222222222222,\"#7201a8\"],[0.3333333333333333,\"#9c179e\"],[0.4444444444444444,\"#bd3786\"],[0.5555555555555556,\"#d8576b\"],[0.6666666666666666,\"#ed7953\"],[0.7777777777777778,\"#fb9f3a\"],[0.8888888888888888,\"#fdca26\"],[1.0,\"#f0f921\"]],\"diverging\":[[0,\"#8e0152\"],[0.1,\"#c51b7d\"],[0.2,\"#de77ae\"],[0.3,\"#f1b6da\"],[0.4,\"#fde0ef\"],[0.5,\"#f7f7f7\"],[0.6,\"#e6f5d0\"],[0.7,\"#b8e186\"],[0.8,\"#7fbc41\"],[0.9,\"#4d9221\"],[1,\"#276419\"]]},\"xaxis\":{\"gridcolor\":\"white\",\"linecolor\":\"white\",\"ticks\":\"\",\"title\":{\"standoff\":15},\"zerolinecolor\":\"white\",\"automargin\":true,\"zerolinewidth\":2},\"yaxis\":{\"gridcolor\":\"white\",\"linecolor\":\"white\",\"ticks\":\"\",\"title\":{\"standoff\":15},\"zerolinecolor\":\"white\",\"automargin\":true,\"zerolinewidth\":2},\"scene\":{\"xaxis\":{\"backgroundcolor\":\"#E5ECF6\",\"gridcolor\":\"white\",\"linecolor\":\"white\",\"showbackground\":true,\"ticks\":\"\",\"zerolinecolor\":\"white\",\"gridwidth\":2},\"yaxis\":{\"backgroundcolor\":\"#E5ECF6\",\"gridcolor\":\"white\",\"linecolor\":\"white\",\"showbackground\":true,\"ticks\":\"\",\"zerolinecolor\":\"white\",\"gridwidth\":2},\"zaxis\":{\"backgroundcolor\":\"#E5ECF6\",\"gridcolor\":\"white\",\"linecolor\":\"white\",\"showbackground\":true,\"ticks\":\"\",\"zerolinecolor\":\"white\",\"gridwidth\":2}},\"shapedefaults\":{\"line\":{\"color\":\"#2a3f5f\"}},\"annotationdefaults\":{\"arrowcolor\":\"#2a3f5f\",\"arrowhead\":0,\"arrowwidth\":1},\"geo\":{\"bgcolor\":\"white\",\"landcolor\":\"#E5ECF6\",\"subunitcolor\":\"white\",\"showland\":true,\"showlakes\":true,\"lakecolor\":\"white\"},\"title\":{\"x\":0.05},\"mapbox\":{\"style\":\"light\"}}},\"xaxis\":{\"anchor\":\"y\",\"domain\":[0.0,1.0],\"title\":{\"text\":\"datetime\"}},\"yaxis\":{\"anchor\":\"x\",\"domain\":[0.0,1.0],\"title\":{\"text\":\"sentiment_score\"}},\"legend\":{\"tracegroupgap\":0},\"title\":{\"text\":\"KO Daily Sentiment Scores\"},\"barmode\":\"relative\"},                        {\"responsive\": true}                    ).then(function(){\n",
       "                            \n",
       "var gd = document.getElementById('0bc74719-1458-4dd5-b0ba-c6ef8e84db5d');\n",
       "var x = new MutationObserver(function (mutations, observer) {{\n",
       "        var display = window.getComputedStyle(gd).display;\n",
       "        if (!display || display === 'none') {{\n",
       "            console.log([gd, 'removed!']);\n",
       "            Plotly.purge(gd);\n",
       "            observer.disconnect();\n",
       "        }}\n",
       "}});\n",
       "\n",
       "// Listen for the removal of the full notebook cells\n",
       "var notebookContainer = gd.closest('#notebook-container');\n",
       "if (notebookContainer) {{\n",
       "    x.observe(notebookContainer, {childList: true});\n",
       "}}\n",
       "\n",
       "// Listen for the clearing of the current output cell\n",
       "var outputEl = gd.closest('.output');\n",
       "if (outputEl) {{\n",
       "    x.observe(outputEl, {childList: true});\n",
       "}}\n",
       "\n",
       "                        })                };                });            </script>        </div>"
      ]
     },
     "metadata": {},
     "output_type": "display_data"
    },
    {
     "data": {
      "text/html": [
       "<div>\n",
       "<style scoped>\n",
       "    .dataframe tbody tr th:only-of-type {\n",
       "        vertical-align: middle;\n",
       "    }\n",
       "\n",
       "    .dataframe tbody tr th {\n",
       "        vertical-align: top;\n",
       "    }\n",
       "\n",
       "    .dataframe thead th {\n",
       "        text-align: right;\n",
       "    }\n",
       "</style>\n",
       "<table border=\"1\" class=\"dataframe\">\n",
       "  <thead>\n",
       "    <tr style=\"text-align: right;\">\n",
       "      <th></th>\n",
       "      <th>headline</th>\n",
       "      <th>neg</th>\n",
       "      <th>neu</th>\n",
       "      <th>pos</th>\n",
       "      <th>sentiment_score</th>\n",
       "    </tr>\n",
       "    <tr>\n",
       "      <th>datetime</th>\n",
       "      <th></th>\n",
       "      <th></th>\n",
       "      <th></th>\n",
       "      <th></th>\n",
       "      <th></th>\n",
       "    </tr>\n",
       "  </thead>\n",
       "  <tbody>\n",
       "    <tr>\n",
       "      <th>2022-11-22 10:31:00</th>\n",
       "      <td>10 Coca-Cola Products You Cant Buy Anymore</td>\n",
       "      <td>0.000</td>\n",
       "      <td>1.000</td>\n",
       "      <td>0.000</td>\n",
       "      <td>0.0000</td>\n",
       "    </tr>\n",
       "    <tr>\n",
       "      <th>2022-11-22 10:30:00</th>\n",
       "      <td>2 Soaring Stocks I'd Buy Now With No Hesitation</td>\n",
       "      <td>0.417</td>\n",
       "      <td>0.583</td>\n",
       "      <td>0.000</td>\n",
       "      <td>-0.5106</td>\n",
       "    </tr>\n",
       "    <tr>\n",
       "      <th>2022-11-22 09:30:00</th>\n",
       "      <td>Coca-Cola (KO) Recently Broke Out Above the 20...</td>\n",
       "      <td>0.237</td>\n",
       "      <td>0.763</td>\n",
       "      <td>0.000</td>\n",
       "      <td>-0.4215</td>\n",
       "    </tr>\n",
       "    <tr>\n",
       "      <th>2022-11-21 19:27:00</th>\n",
       "      <td>Is it a Good Move to Keep Your Coca-Cola (KO) ...</td>\n",
       "      <td>0.000</td>\n",
       "      <td>0.611</td>\n",
       "      <td>0.389</td>\n",
       "      <td>0.6249</td>\n",
       "    </tr>\n",
       "    <tr>\n",
       "      <th>2022-11-21 09:15:00</th>\n",
       "      <td>5 Dividend Stocks to Build Your Portfolio Arou...</td>\n",
       "      <td>0.000</td>\n",
       "      <td>1.000</td>\n",
       "      <td>0.000</td>\n",
       "      <td>0.0000</td>\n",
       "    </tr>\n",
       "  </tbody>\n",
       "</table>\n",
       "</div>"
      ],
      "text/plain": [
       "                                                              headline    neg  \\\n",
       "datetime                                                                        \n",
       "2022-11-22 10:31:00         10 Coca-Cola Products You Cant Buy Anymore  0.000   \n",
       "2022-11-22 10:30:00    2 Soaring Stocks I'd Buy Now With No Hesitation  0.417   \n",
       "2022-11-22 09:30:00  Coca-Cola (KO) Recently Broke Out Above the 20...  0.237   \n",
       "2022-11-21 19:27:00  Is it a Good Move to Keep Your Coca-Cola (KO) ...  0.000   \n",
       "2022-11-21 09:15:00  5 Dividend Stocks to Build Your Portfolio Arou...  0.000   \n",
       "\n",
       "                       neu    pos  sentiment_score  \n",
       "datetime                                            \n",
       "2022-11-22 10:31:00  1.000  0.000           0.0000  \n",
       "2022-11-22 10:30:00  0.583  0.000          -0.5106  \n",
       "2022-11-22 09:30:00  0.763  0.000          -0.4215  \n",
       "2022-11-21 19:27:00  0.611  0.389           0.6249  \n",
       "2022-11-21 09:15:00  1.000  0.000           0.0000  "
      ]
     },
     "execution_count": 204,
     "metadata": {},
     "output_type": "execute_result"
    }
   ],
   "source": [
    "ticker = \"KO\"\n",
    "news_table = get_news(ticker)\n",
    "parsed_news_df = parse_news(news_table)\n",
    "parsed_and_scored_news = score_news(parsed_news_df)\n",
    "plot_hourly_sentiment(parsed_and_scored_news, ticker)\n",
    "plot_daily_sentiment(parsed_and_scored_news, ticker)\n",
    "parsed_and_scored_news.head()"
   ]
  },
  {
   "cell_type": "code",
   "execution_count": 205,
   "id": "9cb24d76-b212-4601-b52a-77a7727a2ee5",
   "metadata": {},
   "outputs": [
    {
     "name": "stdout",
     "output_type": "stream",
     "text": [
      "[*********************100%***********************]  1 of 1 completed\n"
     ]
    }
   ],
   "source": [
    "import yfinance as yf\n",
    "import numpy as np\n",
    "fechai = \"2022-11-16\"\n",
    "fechaf = \"2022-11-22\"\n",
    "price = yf.download(ticker,start=fechai,end=fechaf, interval = \"1h\")['Adj Close']"
   ]
  },
  {
   "cell_type": "code",
   "execution_count": 206,
   "id": "ddfc6679-2ff8-4e46-bd8a-34b934fac2fb",
   "metadata": {},
   "outputs": [],
   "source": [
    "retornos = np.log(price) - np.log(price.shift(1))\n",
    "retornos.dropna(inplace=True)"
   ]
  },
  {
   "cell_type": "code",
   "execution_count": 207,
   "id": "c4875e9b-73b4-4548-bd3c-658b2543060a",
   "metadata": {},
   "outputs": [],
   "source": [
    "mean_scores = parsed_and_scored_news.resample('H').mean()\n",
    "mean_scores.dropna(inplace=True)"
   ]
  },
  {
   "cell_type": "code",
   "execution_count": 208,
   "id": "3d1c8323-87cb-44a2-bf6d-8f4c2b9b7790",
   "metadata": {},
   "outputs": [],
   "source": [
    "#mean_scores.index = pd.to_datetime(mean_scores.index)\n",
    "#mean_scores.index = mean_scores.index.tz_localize(None)\n",
    "#retornos.index = pd.to_datetime(retornos.index)\n",
    "#retornos.index = retornos.index.tz_localize(None)\n",
    "retornos = pd.DataFrame(retornos)\n",
    "mean_scores = pd.DataFrame(mean_scores)\n",
    "retornos.set_index(retornos.index.strftime('%Y-%m-%d %H'),inplace=True)\n",
    "mean_scores.set_index(mean_scores.index.strftime('%Y-%m-%d %H'),inplace=True)"
   ]
  },
  {
   "cell_type": "code",
   "execution_count": 209,
   "id": "36ad02e9-ece8-429b-9b64-c54d7c3f6fe5",
   "metadata": {},
   "outputs": [
    {
     "data": {
      "text/html": [
       "<div>\n",
       "<style scoped>\n",
       "    .dataframe tbody tr th:only-of-type {\n",
       "        vertical-align: middle;\n",
       "    }\n",
       "\n",
       "    .dataframe tbody tr th {\n",
       "        vertical-align: top;\n",
       "    }\n",
       "\n",
       "    .dataframe thead th {\n",
       "        text-align: right;\n",
       "    }\n",
       "</style>\n",
       "<table border=\"1\" class=\"dataframe\">\n",
       "  <thead>\n",
       "    <tr style=\"text-align: right;\">\n",
       "      <th></th>\n",
       "      <th>Adj Close</th>\n",
       "      <th>neg</th>\n",
       "      <th>neu</th>\n",
       "      <th>pos</th>\n",
       "      <th>sentiment_score</th>\n",
       "    </tr>\n",
       "  </thead>\n",
       "  <tbody>\n",
       "    <tr>\n",
       "      <th>2022-11-17 10</th>\n",
       "      <td>-0.001574</td>\n",
       "      <td>0.000</td>\n",
       "      <td>1.000</td>\n",
       "      <td>0.000</td>\n",
       "      <td>0.0000</td>\n",
       "    </tr>\n",
       "    <tr>\n",
       "      <th>2022-11-17 12</th>\n",
       "      <td>0.000000</td>\n",
       "      <td>0.238</td>\n",
       "      <td>0.762</td>\n",
       "      <td>0.000</td>\n",
       "      <td>-0.3612</td>\n",
       "    </tr>\n",
       "    <tr>\n",
       "      <th>2022-11-18 09</th>\n",
       "      <td>0.007056</td>\n",
       "      <td>0.000</td>\n",
       "      <td>1.000</td>\n",
       "      <td>0.000</td>\n",
       "      <td>0.0000</td>\n",
       "    </tr>\n",
       "    <tr>\n",
       "      <th>2022-11-18 10</th>\n",
       "      <td>0.001645</td>\n",
       "      <td>0.090</td>\n",
       "      <td>0.674</td>\n",
       "      <td>0.236</td>\n",
       "      <td>0.3818</td>\n",
       "    </tr>\n",
       "    <tr>\n",
       "      <th>2022-11-18 11</th>\n",
       "      <td>-0.003118</td>\n",
       "      <td>0.000</td>\n",
       "      <td>1.000</td>\n",
       "      <td>0.000</td>\n",
       "      <td>0.0000</td>\n",
       "    </tr>\n",
       "  </tbody>\n",
       "</table>\n",
       "</div>"
      ],
      "text/plain": [
       "               Adj Close    neg    neu    pos  sentiment_score\n",
       "2022-11-17 10  -0.001574  0.000  1.000  0.000           0.0000\n",
       "2022-11-17 12   0.000000  0.238  0.762  0.000          -0.3612\n",
       "2022-11-18 09   0.007056  0.000  1.000  0.000           0.0000\n",
       "2022-11-18 10   0.001645  0.090  0.674  0.236           0.3818\n",
       "2022-11-18 11  -0.003118  0.000  1.000  0.000           0.0000"
      ]
     },
     "execution_count": 209,
     "metadata": {},
     "output_type": "execute_result"
    }
   ],
   "source": [
    "df = pd.merge(retornos,mean_scores, left_index = True, right_index=True)\n",
    "df.head(5)"
   ]
  },
  {
   "cell_type": "code",
   "execution_count": 210,
   "id": "42767bc4-9888-4b45-b2aa-20cbd3ca9f17",
   "metadata": {},
   "outputs": [
    {
     "data": {
      "text/html": [
       "<div>\n",
       "<style scoped>\n",
       "    .dataframe tbody tr th:only-of-type {\n",
       "        vertical-align: middle;\n",
       "    }\n",
       "\n",
       "    .dataframe tbody tr th {\n",
       "        vertical-align: top;\n",
       "    }\n",
       "\n",
       "    .dataframe thead th {\n",
       "        text-align: right;\n",
       "    }\n",
       "</style>\n",
       "<table border=\"1\" class=\"dataframe\">\n",
       "  <thead>\n",
       "    <tr style=\"text-align: right;\">\n",
       "      <th></th>\n",
       "      <th>Adj Close</th>\n",
       "      <th>neg</th>\n",
       "      <th>neu</th>\n",
       "      <th>pos</th>\n",
       "      <th>sentiment_score</th>\n",
       "      <th>Accuracy</th>\n",
       "    </tr>\n",
       "  </thead>\n",
       "  <tbody>\n",
       "    <tr>\n",
       "      <th>2022-11-17 10</th>\n",
       "      <td>-0.001574</td>\n",
       "      <td>0.000</td>\n",
       "      <td>1.000</td>\n",
       "      <td>0.000</td>\n",
       "      <td>0.0000</td>\n",
       "      <td>0</td>\n",
       "    </tr>\n",
       "    <tr>\n",
       "      <th>2022-11-17 12</th>\n",
       "      <td>0.000000</td>\n",
       "      <td>0.238</td>\n",
       "      <td>0.762</td>\n",
       "      <td>0.000</td>\n",
       "      <td>-0.3612</td>\n",
       "      <td>-1</td>\n",
       "    </tr>\n",
       "    <tr>\n",
       "      <th>2022-11-18 09</th>\n",
       "      <td>0.007056</td>\n",
       "      <td>0.000</td>\n",
       "      <td>1.000</td>\n",
       "      <td>0.000</td>\n",
       "      <td>0.0000</td>\n",
       "      <td>0</td>\n",
       "    </tr>\n",
       "    <tr>\n",
       "      <th>2022-11-18 10</th>\n",
       "      <td>0.001645</td>\n",
       "      <td>0.090</td>\n",
       "      <td>0.674</td>\n",
       "      <td>0.236</td>\n",
       "      <td>0.3818</td>\n",
       "      <td>1</td>\n",
       "    </tr>\n",
       "    <tr>\n",
       "      <th>2022-11-18 11</th>\n",
       "      <td>-0.003118</td>\n",
       "      <td>0.000</td>\n",
       "      <td>1.000</td>\n",
       "      <td>0.000</td>\n",
       "      <td>0.0000</td>\n",
       "      <td>0</td>\n",
       "    </tr>\n",
       "    <tr>\n",
       "      <th>2022-11-21 09</th>\n",
       "      <td>0.010085</td>\n",
       "      <td>0.000</td>\n",
       "      <td>1.000</td>\n",
       "      <td>0.000</td>\n",
       "      <td>0.0000</td>\n",
       "      <td>0</td>\n",
       "    </tr>\n",
       "  </tbody>\n",
       "</table>\n",
       "</div>"
      ],
      "text/plain": [
       "               Adj Close    neg    neu    pos  sentiment_score  Accuracy\n",
       "2022-11-17 10  -0.001574  0.000  1.000  0.000           0.0000         0\n",
       "2022-11-17 12   0.000000  0.238  0.762  0.000          -0.3612        -1\n",
       "2022-11-18 09   0.007056  0.000  1.000  0.000           0.0000         0\n",
       "2022-11-18 10   0.001645  0.090  0.674  0.236           0.3818         1\n",
       "2022-11-18 11  -0.003118  0.000  1.000  0.000           0.0000         0\n",
       "2022-11-21 09   0.010085  0.000  1.000  0.000           0.0000         0"
      ]
     },
     "execution_count": 210,
     "metadata": {},
     "output_type": "execute_result"
    }
   ],
   "source": [
    "var = []\n",
    "for i in range(len(df)):\n",
    "    if df[\"sentiment_score\"][i] > 0 and df[\"Adj Close\"][i] > 0: #\n",
    "        var.append(1)\n",
    "    elif df[\"sentiment_score\"][i] < 0 and df[\"Adj Close\"][i] < 0:\n",
    "        var.append(1)\n",
    "    elif df[\"sentiment_score\"][i] == 0:\n",
    "        var.append(0)\n",
    "    else:\n",
    "        var.append(-1)\n",
    "df[\"Accuracy\"] = var\n",
    "df"
   ]
  },
  {
   "cell_type": "markdown",
   "id": "da9181ce-01ad-462d-9ffc-0722fe14d87f",
   "metadata": {},
   "source": [
    "import matplotlib.pyplot as plt\n",
    "df[\"Accuracy\"].value_counts().plot(kind=\"bar\",xlabel=[\"1=Acierto\",\"-1=Error\",\"0=No pudo predecir\"], title=ticker);"
   ]
  }
 ],
 "metadata": {
  "kernelspec": {
   "display_name": "Python 3 (ipykernel)",
   "language": "python",
   "name": "python3"
  },
  "language_info": {
   "codemirror_mode": {
    "name": "ipython",
    "version": 3
   },
   "file_extension": ".py",
   "mimetype": "text/x-python",
   "name": "python",
   "nbconvert_exporter": "python",
   "pygments_lexer": "ipython3",
   "version": "3.9.5"
  }
 },
 "nbformat": 4,
 "nbformat_minor": 5
}
